{
 "cells": [
  {
   "cell_type": "markdown",
   "id": "73d62817",
   "metadata": {},
   "source": [
    "# Progetto Data Intensive 2021\n",
    "\n",
    "https://www.kaggle.com/divyansh22/flight-delay-prediction"
   ]
  },
  {
   "cell_type": "markdown",
   "id": "4a01fe12",
   "metadata": {},
   "source": [
    "*Andrea Borghesi  -  Matricola 0000874412  -  Anno 2020/2021*"
   ]
  },
  {
   "cell_type": "markdown",
   "id": "0d08ea5e",
   "metadata": {},
   "source": [
    "## Introduzione\n",
    "\n",
    "Il dataset è stato raccolto dal *Bureau of Transportation Statistics of the USA*. <br/>\n",
    "Il contenuto è diviso in due file *.csv*:\n",
    "\n",
    "* Jan_2019_ontime.csv : Contiene tutti i voli nel mese di Gennaio 2019. (Pulendo il dataset si ricavano 583985 instanze)\n",
    "* Jan_2020_ontime.csv : Contiene tutti i voli nel mese di Gennaio 2020.\n",
    "\n",
    "Le colonne utilizzate in questa analisi sono le seguenti:\n",
    "\n",
    "* **DAY_OF_MONTH** : Giorno del mese, è un intero da 1 a 31.\n",
    "* **DAY_OF_WEEK** : Giorno della settimana, è un intero da 1 a 7.\n",
    "* **ORIGIN** : Sigla aereoporto di origine, è una stringa di lunghezza fissa pari a 3; gli aereoporti di origine sono 346 in totale.\n",
    "* **DEST** : Sigla areoporto di arrivo; è un parametro analogo a ORIGIN.\n",
    "* **DEP_TIME** : Orario programmato di partenza; espresso nel formato hhmm.\n",
    "* **ARR_TIME** : Orario programmato di arrivo; espresso nel formato hhmm.\n",
    "* **DEP_DEL15** : Indica se l'aereo è partito con 15 o più minuti di ritardo.\n",
    "* **DISTANCE** : Indica la distanza tra l'aereoporto di partenza e quello di arrivo in miglia.\n",
    "* **ARR_DEL15** : È la variabile da predire, indica se l'aereo è atterrato con 15 o più minuti di ritardo.\n",
    "\n",
    "\n",
    "Come primo passo verrà svolta un'analisi dividendo il mese di gennaio in due con il metodo *hold-out* e si cercherà quindi di predire gli aerei in ritardo negli ultimi giorni del mese. <br/>\n",
    "Per sfruttare la colonna DAY_OF_MONTH è più opportuno testare i modelli ottenuti utilizzando tutto il mese di Gennaio 2019 come training e tutto il mese di Gennaio 2020 come validation set. <br/>\n",
    "Infine, verrà svolta anche una previsione sul mese di Febbraio 2019 per confrontare il risultato ottenuto con quello ottenuto con la predizione di Gennaio 2020. <br/>\n",
    "\n",
    "N.B.: la colonna DEP_DEL15 è l'unico parametro che rimane incognito fino al giorno stesso della partenza. Osserveremo come l'accuratezza dei modelli cambia con l'utilizzo o l'esclusione di questo parametro."
   ]
  },
  {
   "cell_type": "markdown",
   "id": "37c99511",
   "metadata": {},
   "source": [
    "## Caricamento dataset e preprocessing dei dati\n",
    "\n",
    "Importiamo le librerie necessarie."
   ]
  },
  {
   "cell_type": "code",
   "execution_count": 1,
   "id": "b49febb1",
   "metadata": {},
   "outputs": [],
   "source": [
    "import numpy as np\n",
    "import pandas as pd\n",
    "import matplotlib.pyplot as plt\n",
    "import seaborn as sns"
   ]
  },
  {
   "cell_type": "code",
   "execution_count": 2,
   "id": "345980fc",
   "metadata": {},
   "outputs": [],
   "source": [
    "from sklearn.model_selection import KFold\n",
    "from sklearn.model_selection import GridSearchCV\n",
    "from sklearn.preprocessing import OneHotEncoder\n",
    "from sklearn.compose import ColumnTransformer\n",
    "from sklearn.preprocessing import StandardScaler\n",
    "from sklearn.model_selection import train_test_split\n",
    "from sklearn.tree import plot_tree\n",
    "from sklearn.pipeline import Pipeline\n",
    "from sklearn.linear_model import Perceptron\n",
    "from sklearn.metrics import confusion_matrix\n",
    "from sklearn.tree import DecisionTreeClassifier\n",
    "\n",
    "%matplotlib inline"
   ]
  },
  {
   "cell_type": "markdown",
   "id": "8a19eb55",
   "metadata": {},
   "source": [
    "<span style=\"color:red\">Disattiviamo i warning solo per una questione estetica.</span>"
   ]
  },
  {
   "cell_type": "code",
   "execution_count": 3,
   "id": "5346ffb5",
   "metadata": {},
   "outputs": [],
   "source": [
    "import warnings\n",
    "warnings.filterwarnings(\"ignore\")"
   ]
  },
  {
   "cell_type": "markdown",
   "id": "3617445b",
   "metadata": {},
   "source": [
    "<br/>\n",
    "Come preannunciato, svolgiamo inizialmente uno studio sul solo mese di Gennaio 2019.\n",
    "Salviamo in memoria solo le colonne che ci interessano; così facendo in memoria manteniamo solo 98MB dei 250MB iniziali."
   ]
  },
  {
   "cell_type": "code",
   "execution_count": 4,
   "id": "a50957e5",
   "metadata": {},
   "outputs": [],
   "source": [
    "nomi_colonne = ['DAY_OF_MONTH', 'DAY_OF_WEEK', 'ORIGIN', 'DEST', 'DEP_TIME', 'ARR_TIME', 'DEP_DEL15', 'DISTANCE', 'ARR_DEL15']"
   ]
  },
  {
   "cell_type": "code",
   "execution_count": 5,
   "id": "5cc9a220",
   "metadata": {},
   "outputs": [],
   "source": [
    "data = pd.read_csv('Jan_2019_ontime.csv')[nomi_colonne]"
   ]
  },
  {
   "cell_type": "code",
   "execution_count": 6,
   "id": "3f767384",
   "metadata": {},
   "outputs": [
    {
     "data": {
      "text/html": [
       "<div>\n",
       "<style scoped>\n",
       "    .dataframe tbody tr th:only-of-type {\n",
       "        vertical-align: middle;\n",
       "    }\n",
       "\n",
       "    .dataframe tbody tr th {\n",
       "        vertical-align: top;\n",
       "    }\n",
       "\n",
       "    .dataframe thead th {\n",
       "        text-align: right;\n",
       "    }\n",
       "</style>\n",
       "<table border=\"1\" class=\"dataframe\">\n",
       "  <thead>\n",
       "    <tr style=\"text-align: right;\">\n",
       "      <th></th>\n",
       "      <th>DAY_OF_MONTH</th>\n",
       "      <th>DAY_OF_WEEK</th>\n",
       "      <th>ORIGIN</th>\n",
       "      <th>DEST</th>\n",
       "      <th>DEP_TIME</th>\n",
       "      <th>ARR_TIME</th>\n",
       "      <th>DEP_DEL15</th>\n",
       "      <th>DISTANCE</th>\n",
       "      <th>ARR_DEL15</th>\n",
       "    </tr>\n",
       "  </thead>\n",
       "  <tbody>\n",
       "    <tr>\n",
       "      <th>0</th>\n",
       "      <td>1</td>\n",
       "      <td>2</td>\n",
       "      <td>GNV</td>\n",
       "      <td>ATL</td>\n",
       "      <td>601.0</td>\n",
       "      <td>722.0</td>\n",
       "      <td>0.0</td>\n",
       "      <td>300.0</td>\n",
       "      <td>0.0</td>\n",
       "    </tr>\n",
       "    <tr>\n",
       "      <th>1</th>\n",
       "      <td>1</td>\n",
       "      <td>2</td>\n",
       "      <td>MSP</td>\n",
       "      <td>CVG</td>\n",
       "      <td>1359.0</td>\n",
       "      <td>1633.0</td>\n",
       "      <td>0.0</td>\n",
       "      <td>596.0</td>\n",
       "      <td>0.0</td>\n",
       "    </tr>\n",
       "    <tr>\n",
       "      <th>2</th>\n",
       "      <td>1</td>\n",
       "      <td>2</td>\n",
       "      <td>DTW</td>\n",
       "      <td>CVG</td>\n",
       "      <td>1215.0</td>\n",
       "      <td>1329.0</td>\n",
       "      <td>0.0</td>\n",
       "      <td>229.0</td>\n",
       "      <td>0.0</td>\n",
       "    </tr>\n",
       "    <tr>\n",
       "      <th>3</th>\n",
       "      <td>1</td>\n",
       "      <td>2</td>\n",
       "      <td>TLH</td>\n",
       "      <td>ATL</td>\n",
       "      <td>1521.0</td>\n",
       "      <td>1625.0</td>\n",
       "      <td>0.0</td>\n",
       "      <td>223.0</td>\n",
       "      <td>0.0</td>\n",
       "    </tr>\n",
       "    <tr>\n",
       "      <th>4</th>\n",
       "      <td>1</td>\n",
       "      <td>2</td>\n",
       "      <td>ATL</td>\n",
       "      <td>FSM</td>\n",
       "      <td>1847.0</td>\n",
       "      <td>1940.0</td>\n",
       "      <td>0.0</td>\n",
       "      <td>579.0</td>\n",
       "      <td>0.0</td>\n",
       "    </tr>\n",
       "  </tbody>\n",
       "</table>\n",
       "</div>"
      ],
      "text/plain": [
       "   DAY_OF_MONTH  DAY_OF_WEEK ORIGIN DEST  DEP_TIME  ARR_TIME  DEP_DEL15  \\\n",
       "0             1            2    GNV  ATL     601.0     722.0        0.0   \n",
       "1             1            2    MSP  CVG    1359.0    1633.0        0.0   \n",
       "2             1            2    DTW  CVG    1215.0    1329.0        0.0   \n",
       "3             1            2    TLH  ATL    1521.0    1625.0        0.0   \n",
       "4             1            2    ATL  FSM    1847.0    1940.0        0.0   \n",
       "\n",
       "   DISTANCE  ARR_DEL15  \n",
       "0     300.0        0.0  \n",
       "1     596.0        0.0  \n",
       "2     229.0        0.0  \n",
       "3     223.0        0.0  \n",
       "4     579.0        0.0  "
      ]
     },
     "execution_count": 6,
     "metadata": {},
     "output_type": "execute_result"
    }
   ],
   "source": [
    "data.head()"
   ]
  },
  {
   "cell_type": "code",
   "execution_count": 7,
   "id": "1e87fe59",
   "metadata": {},
   "outputs": [
    {
     "name": "stdout",
     "output_type": "stream",
     "text": [
      "<class 'pandas.core.frame.DataFrame'>\n",
      "RangeIndex: 583985 entries, 0 to 583984\n",
      "Data columns (total 9 columns):\n",
      " #   Column        Non-Null Count   Dtype  \n",
      "---  ------        --------------   -----  \n",
      " 0   DAY_OF_MONTH  583985 non-null  int64  \n",
      " 1   DAY_OF_WEEK   583985 non-null  int64  \n",
      " 2   ORIGIN        583985 non-null  object \n",
      " 3   DEST          583985 non-null  object \n",
      " 4   DEP_TIME      567633 non-null  float64\n",
      " 5   ARR_TIME      566924 non-null  float64\n",
      " 6   DEP_DEL15     567630 non-null  float64\n",
      " 7   DISTANCE      583985 non-null  float64\n",
      " 8   ARR_DEL15     565963 non-null  float64\n",
      "dtypes: float64(5), int64(2), object(2)\n",
      "memory usage: 98.0 MB\n"
     ]
    }
   ],
   "source": [
    "data.info(memory_usage=\"deep\")"
   ]
  },
  {
   "cell_type": "markdown",
   "id": "d5d8e97d",
   "metadata": {},
   "source": [
    "Per risparmiare altra memoria, possiamo suddividere le colonne in **variabili numeriche** e **variabili categoriche** e ricaricare il dataset salvando in memoria quest'ultimi con *dtype category*."
   ]
  },
  {
   "cell_type": "code",
   "execution_count": 8,
   "id": "81a6aa17",
   "metadata": {},
   "outputs": [],
   "source": [
    "numeric_vars = [\"DEP_TIME\", \"ARR_TIME\", \"DISTANCE\"]\n",
    "categorical_vars = [\"DAY_OF_MONTH\", \"DAY_OF_WEEK\", \"ORIGIN\", \"DEST\", \"DEP_DEL15\", \"ARR_DEL15\"]"
   ]
  },
  {
   "cell_type": "code",
   "execution_count": 9,
   "id": "f8e77909",
   "metadata": {},
   "outputs": [],
   "source": [
    "data = pd.read_csv(\n",
    "    'Jan_2019_ontime.csv',\n",
    "    dtype={c: \"category\" for c in categorical_vars}\n",
    ")[nomi_colonne]"
   ]
  },
  {
   "cell_type": "code",
   "execution_count": 10,
   "id": "9414ff86",
   "metadata": {},
   "outputs": [
    {
     "name": "stdout",
     "output_type": "stream",
     "text": [
      "<class 'pandas.core.frame.DataFrame'>\n",
      "RangeIndex: 583985 entries, 0 to 583984\n",
      "Data columns (total 9 columns):\n",
      " #   Column        Non-Null Count   Dtype   \n",
      "---  ------        --------------   -----   \n",
      " 0   DAY_OF_MONTH  583985 non-null  category\n",
      " 1   DAY_OF_WEEK   583985 non-null  category\n",
      " 2   ORIGIN        583985 non-null  category\n",
      " 3   DEST          583985 non-null  category\n",
      " 4   DEP_TIME      567633 non-null  float64 \n",
      " 5   ARR_TIME      566924 non-null  float64 \n",
      " 6   DEP_DEL15     567630 non-null  category\n",
      " 7   DISTANCE      583985 non-null  float64 \n",
      " 8   ARR_DEL15     565963 non-null  category\n",
      "dtypes: category(6), float64(3)\n",
      "memory usage: 17.9 MB\n"
     ]
    }
   ],
   "source": [
    "data.info(memory_usage=\"deep\")"
   ]
  },
  {
   "cell_type": "markdown",
   "id": "8edcf711",
   "metadata": {},
   "source": [
    "Abbiamo risparmiato circa 70MB e ridotto il peso in memoria di circa l'80%."
   ]
  },
  {
   "cell_type": "markdown",
   "id": "0be5239f",
   "metadata": {},
   "source": [
    "Si noti che alcune colonne hanno meno valori non nulli rispetto ad altre. Data la mole di dati in posseso, eliminiamo tutte le righe in cui è presente un valore nullo."
   ]
  },
  {
   "cell_type": "code",
   "execution_count": 11,
   "id": "0bf7122e",
   "metadata": {},
   "outputs": [],
   "source": [
    "data.dropna(inplace=True)"
   ]
  },
  {
   "cell_type": "markdown",
   "id": "842ec5a8",
   "metadata": {},
   "source": [
    "## Esplorazione dei dati\n",
    "\n",
    "Analizziamo la correlazione tra aeroporto di origine/destinazione con il numero di aerei in ritardo."
   ]
  },
  {
   "cell_type": "code",
   "execution_count": 12,
   "id": "39e1f7d7",
   "metadata": {},
   "outputs": [
    {
     "data": {
      "text/plain": [
       "<AxesSubplot:>"
      ]
     },
     "execution_count": 12,
     "metadata": {},
     "output_type": "execute_result"
    },
    {
     "data": {
      "image/png": "[encoded data removed]",
      "text/plain": [
       "<Figure size 432x288 with 1 Axes>"
      ]
     },
     "metadata": {
      "needs_background": "light"
     },
     "output_type": "display_data"
    }
   ],
   "source": [
    "data['ORIGIN'][data['ARR_DEL15'] == \"1.00\"].value_counts().head(20).plot.bar()"
   ]
  },
  {
   "cell_type": "code",
   "execution_count": 13,
   "id": "9be3cc5b",
   "metadata": {},
   "outputs": [
    {
     "data": {
      "text/plain": [
       "<AxesSubplot:>"
      ]
     },
     "execution_count": 13,
     "metadata": {},
     "output_type": "execute_result"
    },
    {
     "data": {
      "image/png": "[encoded data removed]",
      "text/plain": [
       "<Figure size 432x288 with 1 Axes>"
      ]
     },
     "metadata": {
      "needs_background": "light"
     },
     "output_type": "display_data"
    }
   ],
   "source": [
    "data['DEST'][data['ARR_DEL15'] == \"1.00\"].value_counts().head(20).plot.bar()"
   ]
  },
  {
   "cell_type": "markdown",
   "id": "78386398",
   "metadata": {},
   "source": [
    "L'aeroporto che conta più ritardi è l'Aeroporto Internazionale di Chicago, sia per partenza che per arrivi.\n",
    "\n",
    "Osserviamo a livello di percentuale se la situazione cambia."
   ]
  },
  {
   "cell_type": "code",
   "execution_count": 14,
   "id": "31a96e61",
   "metadata": {},
   "outputs": [
    {
     "data": {
      "text/plain": [
       "<AxesSubplot:>"
      ]
     },
     "execution_count": 14,
     "metadata": {},
     "output_type": "execute_result"
    },
    {
     "data": {
      "image/png": "[encoded data removed]",
      "text/plain": [
       "<Figure size 432x288 with 1 Axes>"
      ]
     },
     "metadata": {
      "needs_background": "light"
     },
     "output_type": "display_data"
    }
   ],
   "source": [
    "(data['ORIGIN'][data['ARR_DEL15'] == \"1.00\"].value_counts().sort_index() \\\n",
    "/ data['ORIGIN'].value_counts().sort_index()).sort_values(ascending=False).head(20).plot.bar()"
   ]
  },
  {
   "cell_type": "code",
   "execution_count": 15,
   "id": "c174dd66",
   "metadata": {},
   "outputs": [
    {
     "data": {
      "text/plain": [
       "<AxesSubplot:>"
      ]
     },
     "execution_count": 15,
     "metadata": {},
     "output_type": "execute_result"
    },
    {
     "data": {
      "image/png": "[encoded data removed]",
      "text/plain": [
       "<Figure size 432x288 with 1 Axes>"
      ]
     },
     "metadata": {
      "needs_background": "light"
     },
     "output_type": "display_data"
    }
   ],
   "source": [
    "(data['DEST'][data['ARR_DEL15'] == \"1.00\"].value_counts().sort_index() \\\n",
    "/ data['DEST'].value_counts().sort_index()).sort_values(ascending=False).head(20).plot.bar()"
   ]
  },
  {
   "cell_type": "markdown",
   "id": "03fce470",
   "metadata": {},
   "source": [
    "OGD è l'Aeroporto regionale dello Utah, se si parte o atterra in esso si arriva in ritardo nel 50% dei casi!\n",
    "\n",
    "Discorso analogo per l'Aeroportodi New York (OGS)."
   ]
  },
  {
   "cell_type": "code",
   "execution_count": 16,
   "id": "1f6f0946",
   "metadata": {},
   "outputs": [
    {
     "data": {
      "text/plain": [
       "<AxesSubplot:xlabel='DISTANCE', ylabel='ARR_DEL15'>"
      ]
     },
     "execution_count": 16,
     "metadata": {},
     "output_type": "execute_result"
    },
    {
     "data": {
      "image/png": "[encoded data removed]",
      "text/plain": [
       "<Figure size 432x288 with 1 Axes>"
      ]
     },
     "metadata": {
      "needs_background": "light"
     },
     "output_type": "display_data"
    }
   ],
   "source": [
    "data.plot.scatter('DISTANCE', 'ARR_DEL15')"
   ]
  },
  {
   "cell_type": "markdown",
   "id": "6e7d5541",
   "metadata": {},
   "source": [
    "Da questo grafico si può intuire che la distanza non influenza molto i ritardi degli aerei."
   ]
  },
  {
   "cell_type": "code",
   "execution_count": 17,
   "id": "a0e57fce",
   "metadata": {
    "scrolled": false
   },
   "outputs": [
    {
     "data": {
      "text/plain": [
       "<AxesSubplot:>"
      ]
     },
     "execution_count": 17,
     "metadata": {},
     "output_type": "execute_result"
    },
    {
     "data": {
      "image/png": "[encoded data removed]",
      "text/plain": [
       "<Figure size 792x648 with 2 Axes>"
      ]
     },
     "metadata": {
      "needs_background": "light"
     },
     "output_type": "display_data"
    }
   ],
   "source": [
    "data_expl = data[['DISTANCE']]\n",
    "data_expl['ARR_DEL15'] = data['ARR_DEL15'].astype('float32')\n",
    "data_expl['DEP_DEL15'] = data['DEP_DEL15'].astype('float32')\n",
    "data_expl['DAY_OF_MONTH'] = data['DAY_OF_MONTH'].astype('int8')\n",
    "data_expl['DAY_OF_WEEK'] = data['DAY_OF_WEEK'].astype('int8')\n",
    "data_expl['ARR_TIME'] = data['ARR_TIME'].astype('int16')\n",
    "data_expl['DEP_TIME'] = data['DEP_TIME'].astype('int16')\n",
    "\n",
    "\n",
    "corr = data_expl.corr()\n",
    "mask = np.triu(np.ones_like(corr, dtype=bool))\n",
    "mask[np.triu_indices_from(mask)] = True\n",
    "f, ax = plt.subplots(figsize=(11, 9))\n",
    "cmap = sns.diverging_palette(230, 20, as_cmap=True)\n",
    "sns.heatmap(corr, mask=mask, cmap=cmap, vmax=.22, center=0, annot = True,\n",
    "            square=True, linewidths=.5, cbar_kws={\"shrink\": .5})"
   ]
  },
  {
   "cell_type": "markdown",
   "id": "30e2e1a5",
   "metadata": {},
   "source": [
    "A conferma di quanto detto sopra, notiamo la bassa correlazione tra la distanza e il ritardo degli aerei. Al contrario, notiamo come la variabile ARR_DEL15 e DEP_DEL15 siano correlate. "
   ]
  },
  {
   "cell_type": "markdown",
   "id": "77733675",
   "metadata": {},
   "source": [
    "## Previsione con parametro DEP_DEL15\n",
    "\n",
    "Studiamo meglio la variabile DEP_DEL15 e la sua relazione con la variabile da prevedere ARR_DEL15. <br/>\n",
    "Una forte correlazione tra queste due variabili era prevedibile dato che un aereo che parte in ritardo è probabile che arrivi in ritardo."
   ]
  },
  {
   "cell_type": "code",
   "execution_count": 18,
   "id": "4aad7bb3",
   "metadata": {},
   "outputs": [],
   "source": [
    "dep_del = data['DEP_DEL15']\n",
    "arr_del = data['ARR_DEL15']"
   ]
  },
  {
   "cell_type": "code",
   "execution_count": 19,
   "id": "ecf3a75a",
   "metadata": {},
   "outputs": [
    {
     "data": {
      "text/plain": [
       "DEP_DEL15     98305\n",
       "ARR_DEL15    105222\n",
       "Name: 1.00, dtype: int64"
      ]
     },
     "execution_count": 19,
     "metadata": {},
     "output_type": "execute_result"
    }
   ],
   "source": [
    "pd.DataFrame([dep_del.value_counts(), arr_del.value_counts()])['1.00']"
   ]
  },
  {
   "cell_type": "markdown",
   "id": "74cfa42a",
   "metadata": {},
   "source": [
    "Osserviamo che circa 98 mila aerei sono partiti in ritardo e circa 105 mila aerei sono atterratti in ritardo. <br/>\n",
    "Calcoliamo ora quante volte i due eventi si verificano nello stesso volo."
   ]
  },
  {
   "cell_type": "code",
   "execution_count": 20,
   "id": "9d12de7e",
   "metadata": {},
   "outputs": [
    {
     "data": {
      "text/plain": [
       "1.00    78288\n",
       "0.00    20017\n",
       "Name: ARR_DEL15, dtype: int64"
      ]
     },
     "execution_count": 20,
     "metadata": {},
     "output_type": "execute_result"
    }
   ],
   "source": [
    "arr_del.iloc[np.where(dep_del == \"1.00\")].value_counts()"
   ]
  },
  {
   "cell_type": "markdown",
   "id": "d18861ed",
   "metadata": {},
   "source": [
    "Notiamo che circa il 79% delle volte che un aereo parte in ritardo, arriva anche in ritardo. <br/>\n",
    "\n",
    "Addestriamo un modello utilizzando solo questa variabile."
   ]
  },
  {
   "cell_type": "code",
   "execution_count": 21,
   "id": "d1984f98",
   "metadata": {},
   "outputs": [
    {
     "data": {
      "text/plain": [
       "0.9166617586430297"
      ]
     },
     "execution_count": 21,
     "metadata": {},
     "output_type": "execute_result"
    }
   ],
   "source": [
    "X_train, X_val, y_train, y_val = train_test_split(pd.DataFrame(dep_del), pd.DataFrame(arr_del), test_size=0.15, random_state=42, shuffle=False)\n",
    "model = Pipeline([\n",
    "    ('scaler', StandardScaler()),\n",
    "    ('tree', DecisionTreeClassifier(max_depth=5, min_samples_split=10, random_state=42))\n",
    "])\n",
    "model.fit(X_train, y_train)\n",
    "model.score(X_val, y_val)"
   ]
  },
  {
   "cell_type": "code",
   "execution_count": 22,
   "id": "35733f6e",
   "metadata": {},
   "outputs": [
    {
     "data": {
      "text/html": [
       "<div>\n",
       "<style scoped>\n",
       "    .dataframe tbody tr th:only-of-type {\n",
       "        vertical-align: middle;\n",
       "    }\n",
       "\n",
       "    .dataframe tbody tr th {\n",
       "        vertical-align: top;\n",
       "    }\n",
       "\n",
       "    .dataframe thead th {\n",
       "        text-align: right;\n",
       "    }\n",
       "</style>\n",
       "<table border=\"1\" class=\"dataframe\">\n",
       "  <thead>\n",
       "    <tr style=\"text-align: right;\">\n",
       "      <th></th>\n",
       "      <th>0.00</th>\n",
       "      <th>1.00</th>\n",
       "    </tr>\n",
       "  </thead>\n",
       "  <tbody>\n",
       "    <tr>\n",
       "      <th>0.00</th>\n",
       "      <td>66049</td>\n",
       "      <td>3137</td>\n",
       "    </tr>\n",
       "    <tr>\n",
       "      <th>1.00</th>\n",
       "      <td>3938</td>\n",
       "      <td>11771</td>\n",
       "    </tr>\n",
       "  </tbody>\n",
       "</table>\n",
       "</div>"
      ],
      "text/plain": [
       "       0.00   1.00\n",
       "0.00  66049   3137\n",
       "1.00   3938  11771"
      ]
     },
     "execution_count": 22,
     "metadata": {},
     "output_type": "execute_result"
    }
   ],
   "source": [
    "cm = confusion_matrix(y_val, model.predict(X_val))\n",
    "pd.DataFrame(cm, index=model.classes_, columns=model.classes_)"
   ]
  },
  {
   "cell_type": "markdown",
   "id": "1d99475c",
   "metadata": {},
   "source": [
    "Si ottiene un ottimo risultato!  <br/>\n",
    "Ovviamente questa previsione è possibile farla solo qualche istante prima della partenza dell'aereo.\n",
    "D'ora in avanti procediamo senza tale parametro per vedere se il ritardo di un aereo è prevedibile anche nei giorni precedenti alla partenza."
   ]
  },
  {
   "cell_type": "markdown",
   "id": "2486ab38",
   "metadata": {},
   "source": [
    "## Divisione dataset "
   ]
  },
  {
   "cell_type": "markdown",
   "id": "ccd7d90a",
   "metadata": {},
   "source": [
    "Dividiamo il dataset nelle colonne per il training e in quella da predire."
   ]
  },
  {
   "cell_type": "code",
   "execution_count": 23,
   "id": "7468626b",
   "metadata": {},
   "outputs": [],
   "source": [
    "X = data.drop(columns=['ARR_DEL15', 'DEP_DEL15'])"
   ]
  },
  {
   "cell_type": "code",
   "execution_count": 24,
   "id": "6974414e",
   "metadata": {},
   "outputs": [],
   "source": [
    "y = data[['ARR_DEL15']]"
   ]
  },
  {
   "cell_type": "markdown",
   "id": "3728082b",
   "metadata": {},
   "source": [
    "## Gestione variabili categoriche\n",
    "\n",
    "Le colonne ORIGIN e DEST contengono gli acronimi di 346 aereoporti. <br/>\n",
    "Per potere addestrare i modelli di classificazione convertiremo le variabili categoriche in binarie con il filtro *OneHotEncoder*."
   ]
  },
  {
   "cell_type": "code",
   "execution_count": 25,
   "id": "240d3677",
   "metadata": {},
   "outputs": [],
   "source": [
    "string_vars = ['ORIGIN', 'DEST']"
   ]
  },
  {
   "cell_type": "code",
   "execution_count": 26,
   "id": "3b71b5f8",
   "metadata": {},
   "outputs": [],
   "source": [
    "encoder = OneHotEncoder(sparse=False)"
   ]
  },
  {
   "cell_type": "code",
   "execution_count": 27,
   "id": "86791d4b",
   "metadata": {},
   "outputs": [
    {
     "data": {
      "text/plain": [
       "array([[0., 0., 0., ..., 0., 0., 0.],\n",
       "       [0., 0., 0., ..., 0., 0., 0.],\n",
       "       [0., 0., 0., ..., 0., 0., 0.],\n",
       "       ...,\n",
       "       [0., 0., 0., ..., 0., 0., 0.],\n",
       "       [0., 0., 0., ..., 0., 0., 0.],\n",
       "       [0., 0., 0., ..., 0., 0., 0.]])"
      ]
     },
     "execution_count": 27,
     "metadata": {},
     "output_type": "execute_result"
    }
   ],
   "source": [
    "encoder.fit_transform(X[['ORIGIN']])"
   ]
  },
  {
   "cell_type": "code",
   "execution_count": 28,
   "id": "6b37af7e",
   "metadata": {},
   "outputs": [
    {
     "data": {
      "text/html": [
       "<div>\n",
       "<style scoped>\n",
       "    .dataframe tbody tr th:only-of-type {\n",
       "        vertical-align: middle;\n",
       "    }\n",
       "\n",
       "    .dataframe tbody tr th {\n",
       "        vertical-align: top;\n",
       "    }\n",
       "\n",
       "    .dataframe thead th {\n",
       "        text-align: right;\n",
       "    }\n",
       "</style>\n",
       "<table border=\"1\" class=\"dataframe\">\n",
       "  <thead>\n",
       "    <tr style=\"text-align: right;\">\n",
       "      <th></th>\n",
       "      <th>ORIGIN_ABE</th>\n",
       "      <th>ORIGIN_ABI</th>\n",
       "      <th>ORIGIN_ABQ</th>\n",
       "      <th>ORIGIN_ABR</th>\n",
       "      <th>ORIGIN_ABY</th>\n",
       "      <th>ORIGIN_ACT</th>\n",
       "      <th>ORIGIN_ACV</th>\n",
       "      <th>ORIGIN_ACY</th>\n",
       "      <th>ORIGIN_ADK</th>\n",
       "      <th>ORIGIN_ADQ</th>\n",
       "      <th>...</th>\n",
       "      <th>ORIGIN_TYS</th>\n",
       "      <th>ORIGIN_UIN</th>\n",
       "      <th>ORIGIN_USA</th>\n",
       "      <th>ORIGIN_VEL</th>\n",
       "      <th>ORIGIN_VLD</th>\n",
       "      <th>ORIGIN_VPS</th>\n",
       "      <th>ORIGIN_WRG</th>\n",
       "      <th>ORIGIN_XNA</th>\n",
       "      <th>ORIGIN_YAK</th>\n",
       "      <th>ORIGIN_YUM</th>\n",
       "    </tr>\n",
       "  </thead>\n",
       "  <tbody>\n",
       "    <tr>\n",
       "      <th>0</th>\n",
       "      <td>0.0</td>\n",
       "      <td>0.0</td>\n",
       "      <td>0.0</td>\n",
       "      <td>0.0</td>\n",
       "      <td>0.0</td>\n",
       "      <td>0.0</td>\n",
       "      <td>0.0</td>\n",
       "      <td>0.0</td>\n",
       "      <td>0.0</td>\n",
       "      <td>0.0</td>\n",
       "      <td>...</td>\n",
       "      <td>0.0</td>\n",
       "      <td>0.0</td>\n",
       "      <td>0.0</td>\n",
       "      <td>0.0</td>\n",
       "      <td>0.0</td>\n",
       "      <td>0.0</td>\n",
       "      <td>0.0</td>\n",
       "      <td>0.0</td>\n",
       "      <td>0.0</td>\n",
       "      <td>0.0</td>\n",
       "    </tr>\n",
       "    <tr>\n",
       "      <th>1</th>\n",
       "      <td>0.0</td>\n",
       "      <td>0.0</td>\n",
       "      <td>0.0</td>\n",
       "      <td>0.0</td>\n",
       "      <td>0.0</td>\n",
       "      <td>0.0</td>\n",
       "      <td>0.0</td>\n",
       "      <td>0.0</td>\n",
       "      <td>0.0</td>\n",
       "      <td>0.0</td>\n",
       "      <td>...</td>\n",
       "      <td>0.0</td>\n",
       "      <td>0.0</td>\n",
       "      <td>0.0</td>\n",
       "      <td>0.0</td>\n",
       "      <td>0.0</td>\n",
       "      <td>0.0</td>\n",
       "      <td>0.0</td>\n",
       "      <td>0.0</td>\n",
       "      <td>0.0</td>\n",
       "      <td>0.0</td>\n",
       "    </tr>\n",
       "    <tr>\n",
       "      <th>2</th>\n",
       "      <td>0.0</td>\n",
       "      <td>0.0</td>\n",
       "      <td>0.0</td>\n",
       "      <td>0.0</td>\n",
       "      <td>0.0</td>\n",
       "      <td>0.0</td>\n",
       "      <td>0.0</td>\n",
       "      <td>0.0</td>\n",
       "      <td>0.0</td>\n",
       "      <td>0.0</td>\n",
       "      <td>...</td>\n",
       "      <td>0.0</td>\n",
       "      <td>0.0</td>\n",
       "      <td>0.0</td>\n",
       "      <td>0.0</td>\n",
       "      <td>0.0</td>\n",
       "      <td>0.0</td>\n",
       "      <td>0.0</td>\n",
       "      <td>0.0</td>\n",
       "      <td>0.0</td>\n",
       "      <td>0.0</td>\n",
       "    </tr>\n",
       "    <tr>\n",
       "      <th>3</th>\n",
       "      <td>0.0</td>\n",
       "      <td>0.0</td>\n",
       "      <td>0.0</td>\n",
       "      <td>0.0</td>\n",
       "      <td>0.0</td>\n",
       "      <td>0.0</td>\n",
       "      <td>0.0</td>\n",
       "      <td>0.0</td>\n",
       "      <td>0.0</td>\n",
       "      <td>0.0</td>\n",
       "      <td>...</td>\n",
       "      <td>0.0</td>\n",
       "      <td>0.0</td>\n",
       "      <td>0.0</td>\n",
       "      <td>0.0</td>\n",
       "      <td>0.0</td>\n",
       "      <td>0.0</td>\n",
       "      <td>0.0</td>\n",
       "      <td>0.0</td>\n",
       "      <td>0.0</td>\n",
       "      <td>0.0</td>\n",
       "    </tr>\n",
       "    <tr>\n",
       "      <th>4</th>\n",
       "      <td>0.0</td>\n",
       "      <td>0.0</td>\n",
       "      <td>0.0</td>\n",
       "      <td>0.0</td>\n",
       "      <td>0.0</td>\n",
       "      <td>0.0</td>\n",
       "      <td>0.0</td>\n",
       "      <td>0.0</td>\n",
       "      <td>0.0</td>\n",
       "      <td>0.0</td>\n",
       "      <td>...</td>\n",
       "      <td>0.0</td>\n",
       "      <td>0.0</td>\n",
       "      <td>0.0</td>\n",
       "      <td>0.0</td>\n",
       "      <td>0.0</td>\n",
       "      <td>0.0</td>\n",
       "      <td>0.0</td>\n",
       "      <td>0.0</td>\n",
       "      <td>0.0</td>\n",
       "      <td>0.0</td>\n",
       "    </tr>\n",
       "  </tbody>\n",
       "</table>\n",
       "<p>5 rows × 346 columns</p>\n",
       "</div>"
      ],
      "text/plain": [
       "   ORIGIN_ABE  ORIGIN_ABI  ORIGIN_ABQ  ORIGIN_ABR  ORIGIN_ABY  ORIGIN_ACT  \\\n",
       "0         0.0         0.0         0.0         0.0         0.0         0.0   \n",
       "1         0.0         0.0         0.0         0.0         0.0         0.0   \n",
       "2         0.0         0.0         0.0         0.0         0.0         0.0   \n",
       "3         0.0         0.0         0.0         0.0         0.0         0.0   \n",
       "4         0.0         0.0         0.0         0.0         0.0         0.0   \n",
       "\n",
       "   ORIGIN_ACV  ORIGIN_ACY  ORIGIN_ADK  ORIGIN_ADQ  ...  ORIGIN_TYS  \\\n",
       "0         0.0         0.0         0.0         0.0  ...         0.0   \n",
       "1         0.0         0.0         0.0         0.0  ...         0.0   \n",
       "2         0.0         0.0         0.0         0.0  ...         0.0   \n",
       "3         0.0         0.0         0.0         0.0  ...         0.0   \n",
       "4         0.0         0.0         0.0         0.0  ...         0.0   \n",
       "\n",
       "   ORIGIN_UIN  ORIGIN_USA  ORIGIN_VEL  ORIGIN_VLD  ORIGIN_VPS  ORIGIN_WRG  \\\n",
       "0         0.0         0.0         0.0         0.0         0.0         0.0   \n",
       "1         0.0         0.0         0.0         0.0         0.0         0.0   \n",
       "2         0.0         0.0         0.0         0.0         0.0         0.0   \n",
       "3         0.0         0.0         0.0         0.0         0.0         0.0   \n",
       "4         0.0         0.0         0.0         0.0         0.0         0.0   \n",
       "\n",
       "   ORIGIN_XNA  ORIGIN_YAK  ORIGIN_YUM  \n",
       "0         0.0         0.0         0.0  \n",
       "1         0.0         0.0         0.0  \n",
       "2         0.0         0.0         0.0  \n",
       "3         0.0         0.0         0.0  \n",
       "4         0.0         0.0         0.0  \n",
       "\n",
       "[5 rows x 346 columns]"
      ]
     },
     "execution_count": 28,
     "metadata": {},
     "output_type": "execute_result"
    }
   ],
   "source": [
    "pd.DataFrame(\n",
    "    encoder.transform(X[['ORIGIN']]),\n",
    "    columns=encoder.get_feature_names(['ORIGIN'])\n",
    ").head(5)"
   ]
  },
  {
   "cell_type": "code",
   "execution_count": 29,
   "id": "fcc5ff9c",
   "metadata": {},
   "outputs": [
    {
     "data": {
      "text/plain": [
       "697"
      ]
     },
     "execution_count": 29,
     "metadata": {},
     "output_type": "execute_result"
    }
   ],
   "source": [
    "# memorizziamo il nome di tutte le colonne in un array per utilizzi futuri\n",
    "nomi_colonne = [c for c in X.columns if c not in string_vars]+ \\\n",
    "               list(encoder.get_feature_names(['ORIGIN'])) + list(encoder.get_feature_names(['DEST'])) \n",
    "len(nomi_colonne)"
   ]
  },
  {
   "cell_type": "markdown",
   "id": "30a0d625",
   "metadata": {},
   "source": [
    "Ovviamente questo filtro genererà 697 colonne e prolungherà il tempo necessario per l'addestramento e la validazione: bisognerà considerare se mantenere tali colonne o eliminarle del tutto.\n",
    "\n",
    "Creiamo un'istanza della classe ColumnTrasformer che applicheremo nelle varie Pipeline dei modelli successivi. In questo modo applicheremo la **standardizzazione** sulle variabili numeriche e il filtro **OneHotEncoding** sulle variabili categoriche."
   ]
  },
  {
   "cell_type": "code",
   "execution_count": 30,
   "id": "39ff9972",
   "metadata": {},
   "outputs": [],
   "source": [
    "preprocessor = ColumnTransformer([\n",
    "    (\"numeric\"    , StandardScaler(), [c for c in X.columns if c not in string_vars]),\n",
    "    (\"categorical\", encoder , string_vars)\n",
    "])"
   ]
  },
  {
   "cell_type": "markdown",
   "id": "00130274",
   "metadata": {},
   "source": [
    "## Previsione\n",
    "\n",
    "Dividiamo il dataset in training set e validation set senza effettuare lo shuffle. Con il metodo **hold-out** e un test_size del 15% si cerca di predire il ritardo degli aerei dal 27 al 31 Gennaio."
   ]
  },
  {
   "cell_type": "code",
   "execution_count": 31,
   "id": "65313b09",
   "metadata": {},
   "outputs": [],
   "source": [
    "X_train, X_val, y_train, y_val = train_test_split(X, y, test_size=0.15, random_state=42, shuffle=False)"
   ]
  },
  {
   "cell_type": "code",
   "execution_count": 32,
   "id": "df1e4f62",
   "metadata": {},
   "outputs": [
    {
     "data": {
      "text/html": [
       "<div>\n",
       "<style scoped>\n",
       "    .dataframe tbody tr th:only-of-type {\n",
       "        vertical-align: middle;\n",
       "    }\n",
       "\n",
       "    .dataframe tbody tr th {\n",
       "        vertical-align: top;\n",
       "    }\n",
       "\n",
       "    .dataframe thead th {\n",
       "        text-align: right;\n",
       "    }\n",
       "</style>\n",
       "<table border=\"1\" class=\"dataframe\">\n",
       "  <thead>\n",
       "    <tr style=\"text-align: right;\">\n",
       "      <th></th>\n",
       "      <th>DAY_OF_MONTH</th>\n",
       "      <th>DAY_OF_WEEK</th>\n",
       "      <th>ORIGIN</th>\n",
       "      <th>DEST</th>\n",
       "      <th>DEP_TIME</th>\n",
       "      <th>ARR_TIME</th>\n",
       "      <th>DISTANCE</th>\n",
       "    </tr>\n",
       "  </thead>\n",
       "  <tbody>\n",
       "    <tr>\n",
       "      <th>492234</th>\n",
       "      <td>27</td>\n",
       "      <td>7</td>\n",
       "      <td>MSY</td>\n",
       "      <td>CLE</td>\n",
       "      <td>958.0</td>\n",
       "      <td>1305.0</td>\n",
       "      <td>917.0</td>\n",
       "    </tr>\n",
       "  </tbody>\n",
       "</table>\n",
       "</div>"
      ],
      "text/plain": [
       "       DAY_OF_MONTH DAY_OF_WEEK ORIGIN DEST  DEP_TIME  ARR_TIME  DISTANCE\n",
       "492234           27           7    MSY  CLE     958.0    1305.0     917.0"
      ]
     },
     "execution_count": 32,
     "metadata": {},
     "output_type": "execute_result"
    }
   ],
   "source": [
    "X_val.head(1)"
   ]
  },
  {
   "cell_type": "markdown",
   "id": "e3fe5c6f",
   "metadata": {},
   "source": [
    "Si osservi che negli ultimi giorni del mese solo il 18.5% degli aerei arriva in ritardo. La percentuale rimane costante anche nella parte precedente del mese."
   ]
  },
  {
   "cell_type": "code",
   "execution_count": 33,
   "id": "668f80e1",
   "metadata": {},
   "outputs": [
    {
     "data": {
      "text/plain": [
       "ARR_DEL15\n",
       "0.00         69186\n",
       "1.00         15709\n",
       "dtype: int64"
      ]
     },
     "execution_count": 33,
     "metadata": {},
     "output_type": "execute_result"
    }
   ],
   "source": [
    "y_val.value_counts()"
   ]
  },
  {
   "cell_type": "code",
   "execution_count": 34,
   "id": "c3c19290",
   "metadata": {},
   "outputs": [
    {
     "data": {
      "text/plain": [
       "<AxesSubplot:xlabel='ARR_DEL15'>"
      ]
     },
     "execution_count": 34,
     "metadata": {},
     "output_type": "execute_result"
    },
    {
     "data": {
      "image/png": "[encoded data removed]",
      "text/plain": [
       "<Figure size 432x288 with 1 Axes>"
      ]
     },
     "metadata": {
      "needs_background": "light"
     },
     "output_type": "display_data"
    }
   ],
   "source": [
    "y_val.value_counts().plot.bar()"
   ]
  },
  {
   "cell_type": "markdown",
   "id": "c23937b9",
   "metadata": {},
   "source": [
    "Le classi sono abbastanza sbilanciate: nel validation set solo circa il 20% degli aerei arriva in ritardo.\n",
    "\n",
    "Per ora proviamo a mantenere il dataset intatto, mentre in seguito rieffettueremo i test bilanciando le due classi."
   ]
  },
  {
   "cell_type": "markdown",
   "id": "55a8a27c",
   "metadata": {},
   "source": [
    "### • PERCEPTRON"
   ]
  },
  {
   "cell_type": "code",
   "execution_count": 35,
   "id": "1353d28b",
   "metadata": {},
   "outputs": [
    {
     "data": {
      "text/plain": [
       "0.7496790152541375"
      ]
     },
     "execution_count": 35,
     "metadata": {},
     "output_type": "execute_result"
    }
   ],
   "source": [
    "model = Pipeline([\n",
    "    ('preproc', \n",
    "        ColumnTransformer([\n",
    "            (\"categorical\", encoder , string_vars)\n",
    "        ])\n",
    "    ),\n",
    "    ('regr', Perceptron(random_state=42))\n",
    "])\n",
    "model.fit(X_train, y_train)\n",
    "model.score(X_val, y_val)"
   ]
  },
  {
   "cell_type": "code",
   "execution_count": 36,
   "id": "78fe023f",
   "metadata": {},
   "outputs": [
    {
     "data": {
      "text/html": [
       "<div>\n",
       "<style scoped>\n",
       "    .dataframe tbody tr th:only-of-type {\n",
       "        vertical-align: middle;\n",
       "    }\n",
       "\n",
       "    .dataframe tbody tr th {\n",
       "        vertical-align: top;\n",
       "    }\n",
       "\n",
       "    .dataframe thead th {\n",
       "        text-align: right;\n",
       "    }\n",
       "</style>\n",
       "<table border=\"1\" class=\"dataframe\">\n",
       "  <thead>\n",
       "    <tr style=\"text-align: right;\">\n",
       "      <th></th>\n",
       "      <th>0.00</th>\n",
       "      <th>1.00</th>\n",
       "    </tr>\n",
       "  </thead>\n",
       "  <tbody>\n",
       "    <tr>\n",
       "      <th>0.00</th>\n",
       "      <td>61571</td>\n",
       "      <td>7615</td>\n",
       "    </tr>\n",
       "    <tr>\n",
       "      <th>1.00</th>\n",
       "      <td>13636</td>\n",
       "      <td>2073</td>\n",
       "    </tr>\n",
       "  </tbody>\n",
       "</table>\n",
       "</div>"
      ],
      "text/plain": [
       "       0.00  1.00\n",
       "0.00  61571  7615\n",
       "1.00  13636  2073"
      ]
     },
     "execution_count": 36,
     "metadata": {},
     "output_type": "execute_result"
    }
   ],
   "source": [
    "cm = confusion_matrix(y_val, model.predict(X_val))\n",
    "pd.DataFrame(cm, index=model.classes_, columns=model.classes_)"
   ]
  },
  {
   "cell_type": "markdown",
   "id": "06523493",
   "metadata": {},
   "source": [
    "Osserviamo una buona predizione dei voli in orario, ma un risultato non buono per i voli in ritardo."
   ]
  },
  {
   "cell_type": "markdown",
   "id": "8ba2c705",
   "metadata": {},
   "source": [
    "### • REGRESSIONE LOGISTICA "
   ]
  },
  {
   "cell_type": "code",
   "execution_count": 37,
   "id": "73ce1462",
   "metadata": {},
   "outputs": [
    {
     "name": "stdout",
     "output_type": "stream",
     "text": [
      "CPU times: user 4min 51s, sys: 2.9 s, total: 4min 54s\n",
      "Wall time: 4min 54s\n"
     ]
    },
    {
     "data": {
      "text/plain": [
       "0.813840626656458"
      ]
     },
     "execution_count": 37,
     "metadata": {},
     "output_type": "execute_result"
    }
   ],
   "source": [
    "%%time\n",
    "from sklearn.linear_model import LogisticRegression\n",
    "model = Pipeline([\n",
    "    ('preproc', preprocessor),\n",
    "    ('regr', LogisticRegression(solver=\"saga\", random_state=42, C=1, penalty='l1'))\n",
    "])\n",
    "model.fit(X_train, y_train)\n",
    "model.score(X_val, y_val)"
   ]
  },
  {
   "cell_type": "code",
   "execution_count": 38,
   "id": "27449e53",
   "metadata": {},
   "outputs": [
    {
     "data": {
      "text/plain": [
       "DAY_OF_MONTH    0.154205\n",
       "DAY_OF_WEEK    -0.026156\n",
       "DEP_TIME        0.470329\n",
       "ARR_TIME       -0.098567\n",
       "DISTANCE       -0.015847\n",
       "                  ...   \n",
       "DEST_VPS        0.155319\n",
       "DEST_WRG        0.419075\n",
       "DEST_XNA       -0.103465\n",
       "DEST_YAK        0.174062\n",
       "DEST_YUM       -0.008281\n",
       "Length: 697, dtype: float64"
      ]
     },
     "execution_count": 38,
     "metadata": {},
     "output_type": "execute_result"
    }
   ],
   "source": [
    "pd.Series(model.named_steps['regr'].coef_[0], index=nomi_colonne)"
   ]
  },
  {
   "cell_type": "markdown",
   "id": "e6dc8263",
   "metadata": {},
   "source": [
    "Notiamo un aumento della precisione rispetto al Perceptron a fronte di un tempo di addestramento più oneroso. <br/>"
   ]
  },
  {
   "cell_type": "markdown",
   "id": "6b6ed246",
   "metadata": {},
   "source": [
    "### • DECISION TREE "
   ]
  },
  {
   "cell_type": "code",
   "execution_count": 39,
   "id": "f044831b",
   "metadata": {
    "scrolled": true
   },
   "outputs": [
    {
     "name": "stdout",
     "output_type": "stream",
     "text": [
      "CPU times: user 12.2 s, sys: 2.41 s, total: 14.7 s\n",
      "Wall time: 15.1 s\n"
     ]
    },
    {
     "data": {
      "text/plain": [
       "0.8179869250250309"
      ]
     },
     "execution_count": 39,
     "metadata": {},
     "output_type": "execute_result"
    }
   ],
   "source": [
    "%%time\n",
    "model = Pipeline([\n",
    "    (\"preproc\", preprocessor),\n",
    "    ('tree', DecisionTreeClassifier(max_depth=5, min_samples_split=10, random_state=42))\n",
    "])\n",
    "model.fit(X_train, y_train)\n",
    "model.score(X_val, y_val)"
   ]
  },
  {
   "cell_type": "code",
   "execution_count": 40,
   "id": "d1d3600a",
   "metadata": {},
   "outputs": [
    {
     "data": {
      "text/plain": [
       "DAY_OF_MONTH    0.165354\n",
       "DAY_OF_WEEK     0.030913\n",
       "DEP_TIME        0.021905\n",
       "ARR_TIME        0.592763\n",
       "DISTANCE        0.008549\n",
       "                  ...   \n",
       "DEST_VPS        0.000000\n",
       "DEST_WRG        0.000000\n",
       "DEST_XNA        0.000000\n",
       "DEST_YAK        0.000000\n",
       "DEST_YUM        0.000000\n",
       "Length: 697, dtype: float64"
      ]
     },
     "execution_count": 40,
     "metadata": {},
     "output_type": "execute_result"
    }
   ],
   "source": [
    "coef = pd.Series(model.named_steps['tree'].feature_importances_, index=nomi_colonne)\n",
    "coef"
   ]
  },
  {
   "cell_type": "code",
   "execution_count": 41,
   "id": "4fc39eaf",
   "metadata": {},
   "outputs": [
    {
     "data": {
      "text/plain": [
       "DAY_OF_MONTH    0.165354\n",
       "DAY_OF_WEEK     0.030913\n",
       "DEP_TIME        0.021905\n",
       "ARR_TIME        0.592763\n",
       "ORIGIN_ORD      0.053892\n",
       "DEST_LGA        0.086716\n",
       "DEST_SFO        0.015401\n",
       "DEST_SJU        0.012410\n",
       "dtype: float64"
      ]
     },
     "execution_count": 41,
     "metadata": {},
     "output_type": "execute_result"
    }
   ],
   "source": [
    "coef[coef > 0.01]"
   ]
  },
  {
   "cell_type": "markdown",
   "id": "6c7395ac",
   "metadata": {},
   "source": [
    "L'albero ha ottenuto lo stesso risultato della regressione logistica in soli 18 secondi."
   ]
  },
  {
   "cell_type": "markdown",
   "id": "498a14d8",
   "metadata": {},
   "source": [
    "## Previsione mese di Gennaio 2020\n",
    "\n",
    "Proviamo ad addestrare un modello che utilizzi un *albero decisionale* su tutto il mese di Gennaio 2019 ed effettuare una validazione su tutto il mese di Gennaio 2020.\n",
    "\n",
    "Abbiamo già pronte le istanze di training."
   ]
  },
  {
   "cell_type": "code",
   "execution_count": 42,
   "id": "c03dbf6a",
   "metadata": {},
   "outputs": [],
   "source": [
    "X_2019, y_2019 = X, y"
   ]
  },
  {
   "cell_type": "code",
   "execution_count": 43,
   "id": "6082bac0",
   "metadata": {},
   "outputs": [],
   "source": [
    "data_2020 = pd.read_csv(\n",
    "    'Jan_2020_ontime.csv',\n",
    "    dtype={c: \"category\" for c in categorical_vars}\n",
    ")[list(X_2019.columns) + ['ARR_DEL15']]\n",
    "\n",
    "data_2020.dropna(inplace=True)\n",
    "\n",
    "X_2020 = data_2020.drop(columns=['ARR_DEL15'])\n",
    "y_2020 = data_2020[['ARR_DEL15']]"
   ]
  },
  {
   "cell_type": "markdown",
   "id": "7fead918",
   "metadata": {},
   "source": [
    "Controlliamo se nel 2020 sono state aggiunti dei voli da aereoporti che non erano stati utilizzati nel 2019. <br/>"
   ]
  },
  {
   "cell_type": "code",
   "execution_count": 44,
   "id": "843fd2b5",
   "metadata": {},
   "outputs": [
    {
     "data": {
      "text/plain": [
       "0    XWA\n",
       "1    ATY\n",
       "2    PIR\n",
       "3    PAE\n",
       "4    BFM\n",
       "5    SHR\n",
       "6    RIW\n",
       "dtype: object"
      ]
     },
     "execution_count": 44,
     "metadata": {},
     "output_type": "execute_result"
    }
   ],
   "source": [
    "new_origin = [k for k in X_2020['ORIGIN'].unique() if k not in data['ORIGIN'].unique()]\n",
    "        \n",
    "pd.Series(new_origin)"
   ]
  },
  {
   "cell_type": "code",
   "execution_count": 45,
   "id": "00fa932c",
   "metadata": {},
   "outputs": [
    {
     "data": {
      "text/plain": [
       "427"
      ]
     },
     "execution_count": 45,
     "metadata": {},
     "output_type": "execute_result"
    }
   ],
   "source": [
    "old_origin = data['ORIGIN'].unique()\n",
    "new_origin_index = [k for k in X_2020['ORIGIN'].index if data_2020['ORIGIN'][k] not in old_origin]\n",
    "len(new_origin_index)"
   ]
  },
  {
   "cell_type": "code",
   "execution_count": 46,
   "id": "ef4929b1",
   "metadata": {},
   "outputs": [
    {
     "data": {
      "text/plain": [
       "425"
      ]
     },
     "execution_count": 46,
     "metadata": {},
     "output_type": "execute_result"
    }
   ],
   "source": [
    "new_dest_index = [k for k in X_2020['DEST'].index if data_2020['DEST'][k] not in old_origin]\n",
    "len(new_dest_index)"
   ]
  },
  {
   "cell_type": "markdown",
   "id": "67fda8bf",
   "metadata": {},
   "source": [
    "Dato che questi nuove destinazioni compaiono in solo 427+425 voli, possiamo ignorarli per la nostra analisi."
   ]
  },
  {
   "cell_type": "code",
   "execution_count": 47,
   "id": "b85eff16",
   "metadata": {},
   "outputs": [],
   "source": [
    "X_2020 = X_2020.drop(new_origin_index+new_dest_index).reset_index().drop(columns=['index'])\n",
    "y_2020 = y_2020.drop(new_origin_index+new_dest_index).reset_index().drop(columns=['index'])"
   ]
  },
  {
   "cell_type": "markdown",
   "id": "0cc8cb4a",
   "metadata": {},
   "source": [
    "Procediamo con l'addestramento e la previsione."
   ]
  },
  {
   "cell_type": "code",
   "execution_count": 48,
   "id": "3cdd7cbf",
   "metadata": {},
   "outputs": [
    {
     "data": {
      "text/plain": [
       "0.8648985552774315"
      ]
     },
     "execution_count": 48,
     "metadata": {},
     "output_type": "execute_result"
    }
   ],
   "source": [
    "model = Pipeline([\n",
    "    (\"preproc\", preprocessor),\n",
    "    ('tree', DecisionTreeClassifier(max_depth=3, min_samples_split=1000, random_state=42))\n",
    "])\n",
    "model.fit(X_2019, y_2019)\n",
    "model.score(X_2020, y_2020)"
   ]
  },
  {
   "cell_type": "markdown",
   "id": "3ff92a90",
   "metadata": {},
   "source": [
    "L'accuratezza è aumentata per il mese di Gennaio 2020."
   ]
  },
  {
   "cell_type": "code",
   "execution_count": 49,
   "id": "ebfb9a73",
   "metadata": {},
   "outputs": [
    {
     "data": {
      "text/html": [
       "<div>\n",
       "<style scoped>\n",
       "    .dataframe tbody tr th:only-of-type {\n",
       "        vertical-align: middle;\n",
       "    }\n",
       "\n",
       "    .dataframe tbody tr th {\n",
       "        vertical-align: top;\n",
       "    }\n",
       "\n",
       "    .dataframe thead th {\n",
       "        text-align: right;\n",
       "    }\n",
       "</style>\n",
       "<table border=\"1\" class=\"dataframe\">\n",
       "  <thead>\n",
       "    <tr style=\"text-align: right;\">\n",
       "      <th></th>\n",
       "      <th>0.00</th>\n",
       "      <th>1.00</th>\n",
       "    </tr>\n",
       "  </thead>\n",
       "  <tbody>\n",
       "    <tr>\n",
       "      <th>0.00</th>\n",
       "      <td>514105</td>\n",
       "      <td>2243</td>\n",
       "    </tr>\n",
       "    <tr>\n",
       "      <th>1.00</th>\n",
       "      <td>78609</td>\n",
       "      <td>3497</td>\n",
       "    </tr>\n",
       "  </tbody>\n",
       "</table>\n",
       "</div>"
      ],
      "text/plain": [
       "        0.00  1.00\n",
       "0.00  514105  2243\n",
       "1.00   78609  3497"
      ]
     },
     "execution_count": 49,
     "metadata": {},
     "output_type": "execute_result"
    }
   ],
   "source": [
    "cm = confusion_matrix(y_2020, model.predict(X_2020))\n",
    "pd.DataFrame(cm, index=model.classes_, columns=model.classes_)"
   ]
  },
  {
   "cell_type": "markdown",
   "id": "54a9aaf2",
   "metadata": {},
   "source": [
    "Notiamo però un notevole sbilanciamento tra le due classi previste. Nella prossima sezione verrà effettuato un tentativo di previsione bilanciando le due classi."
   ]
  },
  {
   "cell_type": "code",
   "execution_count": 50,
   "id": "ceeb6e3b",
   "metadata": {},
   "outputs": [
    {
     "data": {
      "text/plain": [
       "DEP_TIME    0.009883\n",
       "ARR_TIME    0.903881\n",
       "DEST_LGA    0.067858\n",
       "DEST_SJU    0.018378\n",
       "dtype: float64"
      ]
     },
     "execution_count": 50,
     "metadata": {},
     "output_type": "execute_result"
    }
   ],
   "source": [
    "coef = pd.Series(model.named_steps['tree'].feature_importances_, index=nomi_colonne)\n",
    "coef[coef > 0.001]"
   ]
  },
  {
   "cell_type": "markdown",
   "id": "34dad5ff",
   "metadata": {},
   "source": [
    "Notiamo che il parametro più rilevante è l'orario di atterraggio. \n",
    "\n",
    "Inoltre, anche l'aereoporto LaGuardia di New York, leggendo la rappresentazione sottostante, si può notare che è associato alla classe 0."
   ]
  },
  {
   "cell_type": "code",
   "execution_count": 51,
   "id": "2256da16",
   "metadata": {},
   "outputs": [
    {
     "name": "stdout",
     "output_type": "stream",
     "text": [
      "|--- ARR_TIME <= -2.15\n",
      "|   |--- ARR_TIME <= -2.75\n",
      "|   |   |--- DEP_TIME <= 1.85\n",
      "|   |   |   |--- class: 0.00\n",
      "|   |   |--- DEP_TIME >  1.85\n",
      "|   |   |   |--- class: 1.00\n",
      "|   |--- ARR_TIME >  -2.75\n",
      "|   |   |--- DEST_SJU <= 0.50\n",
      "|   |   |   |--- class: 1.00\n",
      "|   |   |--- DEST_SJU >  0.50\n",
      "|   |   |   |--- class: 0.00\n",
      "|--- ARR_TIME >  -2.15\n",
      "|   |--- ARR_TIME <= 0.42\n",
      "|   |   |--- ARR_TIME <= -0.88\n",
      "|   |   |   |--- class: 0.00\n",
      "|   |   |--- ARR_TIME >  -0.88\n",
      "|   |   |   |--- class: 0.00\n",
      "|   |--- ARR_TIME >  0.42\n",
      "|   |   |--- DEST_LGA <= 0.50\n",
      "|   |   |   |--- class: 0.00\n",
      "|   |   |--- DEST_LGA >  0.50\n",
      "|   |   |   |--- class: 0.00\n",
      "\n"
     ]
    }
   ],
   "source": [
    "from sklearn.tree import export_text\n",
    "print(export_text(model.named_steps['tree'], feature_names=nomi_colonne))"
   ]
  },
  {
   "cell_type": "markdown",
   "id": "0a0b857e",
   "metadata": {},
   "source": [
    "La colonna ARR_TIME è visibilmente la più influente: se abbassiamo l'altezza massima dell'albero, essa sarà l'unica variabile utilizzata dall'albero."
   ]
  },
  {
   "cell_type": "code",
   "execution_count": 52,
   "id": "0938672d",
   "metadata": {},
   "outputs": [
    {
     "data": {
      "image/png": "[encoded data removed]",
      "text/plain": [
       "<Figure size 864x432 with 1 Axes>"
      ]
     },
     "metadata": {
      "needs_background": "light"
     },
     "output_type": "display_data"
    }
   ],
   "source": [
    "plt.figure(figsize=(12, 6))\n",
    "plot_tree(model.named_steps['tree'], feature_names=nomi_colonne);"
   ]
  },
  {
   "cell_type": "markdown",
   "id": "ed3f1728",
   "metadata": {},
   "source": [
    "## Bilanciamento classi\n",
    "\n",
    "Dato che (per fortuna) gli aerei che arrivano in orario sono in numero maggiore rispetto a quelli che arrivano in ritardo di più di 15 minuti (nel gennaio 2020 solo il 13.7% è arrivato in ritardo), proviamo a bilancere le due classi per osservare se otteniamo risultati migliori. Tale sbilanciamento ha portato a una classificazione molto poco accurata per quanto riguarda gli aerei in ritardo.\n",
    "\n",
    "Riaddestriamo i modelli usati fino ad ora definendo però questa volta l'iperparametro **class_weight**, il quale permette di associare un peso differente alle due classi con lo scopo di renderle bilanciate."
   ]
  },
  {
   "cell_type": "code",
   "execution_count": 53,
   "id": "939450e0",
   "metadata": {},
   "outputs": [
    {
     "data": {
      "text/plain": [
       "0.6251892376022217"
      ]
     },
     "execution_count": 53,
     "metadata": {},
     "output_type": "execute_result"
    }
   ],
   "source": [
    "model = Pipeline([\n",
    "    (\"preproc\", preprocessor),\n",
    "    ('tree', DecisionTreeClassifier(max_depth=20, min_samples_split=1000, class_weight='balanced', random_state=42))\n",
    "])\n",
    "model.fit(X_2019, y_2019)\n",
    "model.score(X_2020, y_2020)"
   ]
  },
  {
   "cell_type": "code",
   "execution_count": 54,
   "id": "6b04c0cc",
   "metadata": {},
   "outputs": [
    {
     "data": {
      "text/html": [
       "<div>\n",
       "<style scoped>\n",
       "    .dataframe tbody tr th:only-of-type {\n",
       "        vertical-align: middle;\n",
       "    }\n",
       "\n",
       "    .dataframe tbody tr th {\n",
       "        vertical-align: top;\n",
       "    }\n",
       "\n",
       "    .dataframe thead th {\n",
       "        text-align: right;\n",
       "    }\n",
       "</style>\n",
       "<table border=\"1\" class=\"dataframe\">\n",
       "  <thead>\n",
       "    <tr style=\"text-align: right;\">\n",
       "      <th></th>\n",
       "      <th>0.00</th>\n",
       "      <th>1.00</th>\n",
       "    </tr>\n",
       "  </thead>\n",
       "  <tbody>\n",
       "    <tr>\n",
       "      <th>0.00</th>\n",
       "      <td>333375</td>\n",
       "      <td>182973</td>\n",
       "    </tr>\n",
       "    <tr>\n",
       "      <th>1.00</th>\n",
       "      <td>41334</td>\n",
       "      <td>40772</td>\n",
       "    </tr>\n",
       "  </tbody>\n",
       "</table>\n",
       "</div>"
      ],
      "text/plain": [
       "        0.00    1.00\n",
       "0.00  333375  182973\n",
       "1.00   41334   40772"
      ]
     },
     "execution_count": 54,
     "metadata": {},
     "output_type": "execute_result"
    }
   ],
   "source": [
    "cm = confusion_matrix(y_2020, model.predict(X_2020))\n",
    "pd.DataFrame(cm, index=model.classes_, columns=model.classes_)"
   ]
  },
  {
   "cell_type": "code",
   "execution_count": 55,
   "id": "02568703",
   "metadata": {},
   "outputs": [
    {
     "name": "stdout",
     "output_type": "stream",
     "text": [
      "Aerei correttamente classificati in orario:   0.65\n",
      "Aerei correttamente classificati in ritardo:  0.50\n"
     ]
    }
   ],
   "source": [
    "print(\"Aerei correttamente classificati in orario:   %.2f\" % (cm[0][0]/cm[0].sum()))\n",
    "print(\"Aerei correttamente classificati in ritardo:  %.2f\" % (cm[1][1]/cm[1].sum()))"
   ]
  },
  {
   "cell_type": "markdown",
   "id": "18f8ef77",
   "metadata": {},
   "source": [
    "Notiamo un peggioramento della previsione degli aerei in orario, ma un aumento notevole della previsione degli aerei in ritardo grazie al bilanciamento delle classi.\n",
    "\n",
    "Proviamo con la *regressione logistica*."
   ]
  },
  {
   "cell_type": "code",
   "execution_count": 56,
   "id": "066406cb",
   "metadata": {},
   "outputs": [
    {
     "name": "stdout",
     "output_type": "stream",
     "text": [
      "CPU times: user 1min 8s, sys: 1.74 s, total: 1min 10s\n",
      "Wall time: 1min 9s\n"
     ]
    },
    {
     "data": {
      "text/plain": [
       "0.5105718829141881"
      ]
     },
     "execution_count": 56,
     "metadata": {},
     "output_type": "execute_result"
    }
   ],
   "source": [
    "%%time\n",
    "model = Pipeline([\n",
    "    ('preproc', preprocessor),\n",
    "    ('regr', LogisticRegression(solver=\"saga\", random_state=42, C=0.1, penalty='l1', class_weight='balanced'))\n",
    "])\n",
    "model.fit(X_train, y_train)\n",
    "model.score(X_val, y_val)"
   ]
  },
  {
   "cell_type": "code",
   "execution_count": 57,
   "id": "06a293d5",
   "metadata": {},
   "outputs": [
    {
     "data": {
      "text/html": [
       "<div>\n",
       "<style scoped>\n",
       "    .dataframe tbody tr th:only-of-type {\n",
       "        vertical-align: middle;\n",
       "    }\n",
       "\n",
       "    .dataframe tbody tr th {\n",
       "        vertical-align: top;\n",
       "    }\n",
       "\n",
       "    .dataframe thead th {\n",
       "        text-align: right;\n",
       "    }\n",
       "</style>\n",
       "<table border=\"1\" class=\"dataframe\">\n",
       "  <thead>\n",
       "    <tr style=\"text-align: right;\">\n",
       "      <th></th>\n",
       "      <th>0.00</th>\n",
       "      <th>1.00</th>\n",
       "    </tr>\n",
       "  </thead>\n",
       "  <tbody>\n",
       "    <tr>\n",
       "      <th>0.00</th>\n",
       "      <td>302420</td>\n",
       "      <td>213928</td>\n",
       "    </tr>\n",
       "    <tr>\n",
       "      <th>1.00</th>\n",
       "      <td>38005</td>\n",
       "      <td>44101</td>\n",
       "    </tr>\n",
       "  </tbody>\n",
       "</table>\n",
       "</div>"
      ],
      "text/plain": [
       "        0.00    1.00\n",
       "0.00  302420  213928\n",
       "1.00   38005   44101"
      ]
     },
     "execution_count": 57,
     "metadata": {},
     "output_type": "execute_result"
    }
   ],
   "source": [
    "cm = confusion_matrix(y_2020, model.predict(X_2020))\n",
    "pd.DataFrame(cm, index=model.classes_, columns=model.classes_)"
   ]
  },
  {
   "cell_type": "code",
   "execution_count": 58,
   "id": "387f8305",
   "metadata": {},
   "outputs": [
    {
     "name": "stdout",
     "output_type": "stream",
     "text": [
      "Aerei correttamente classificati in orario:   0.59\n",
      "Aerei correttamente classificati in ritardo:  0.54\n"
     ]
    }
   ],
   "source": [
    "print(\"Aerei correttamente classificati in orario:   %.2f\" % (cm[0][0]/cm[0].sum()))\n",
    "print(\"Aerei correttamente classificati in ritardo:  %.2f\" % (cm[1][1]/cm[1].sum()))"
   ]
  },
  {
   "cell_type": "markdown",
   "id": "e0e43728",
   "metadata": {},
   "source": [
    "Proviamo anche attraverso una **GridsSearchCV** quale sia il valore dell'iperparametro *class_weight* migliore."
   ]
  },
  {
   "cell_type": "code",
   "execution_count": 59,
   "id": "a8cd54e9",
   "metadata": {},
   "outputs": [
    {
     "data": {
      "text/plain": [
       "0.7599932492722916"
      ]
     },
     "execution_count": 59,
     "metadata": {},
     "output_type": "execute_result"
    }
   ],
   "source": [
    "kf = KFold(3, shuffle=False)\n",
    "model = Pipeline([\n",
    "    ('preproc', preprocessor),\n",
    "    ('regr', DecisionTreeClassifier(min_samples_split=100, random_state=42))\n",
    "])\n",
    "grid = {\n",
    "    'regr__class_weight': ['balanced', {'1.00': 2, '0.00': 1}, {'1.00': 3, '0.00': 1}],\n",
    "    'regr__max_depth': [50]\n",
    "}\n",
    "gs = GridSearchCV(model, grid, cv=kf)\n",
    "gs.fit(X_2019, y_2019)\n",
    "gs.score(X_2020, y_2020)"
   ]
  },
  {
   "cell_type": "code",
   "execution_count": 60,
   "id": "aec1ce79",
   "metadata": {},
   "outputs": [
    {
     "data": {
      "text/plain": [
       "{'regr__class_weight': {'1.00': 2, '0.00': 1}, 'regr__max_depth': 50}"
      ]
     },
     "execution_count": 60,
     "metadata": {},
     "output_type": "execute_result"
    }
   ],
   "source": [
    "gs.best_params_"
   ]
  },
  {
   "cell_type": "markdown",
   "id": "bfffe3df",
   "metadata": {},
   "source": [
    "Come era prevedibile, la GridSearch individua come stimatore migliore il modello meno bilanciato, dato che ottiene uno score maggiore."
   ]
  },
  {
   "cell_type": "markdown",
   "id": "43d0f9a1",
   "metadata": {},
   "source": [
    "Proviamo anche con un'altra tecnica denominata **SMOTE**: consiste nel creare delle istanze fittizie della classe meno rappresentata per bilanciarla rispetto all'altra classe più rappresentata.\n",
    "\n",
    "Per prima cosa prepariamo il dataset, per semplicità questa volta ignoreremo le colonne ORIGIN e DEST."
   ]
  },
  {
   "cell_type": "code",
   "execution_count": 61,
   "id": "76e99133",
   "metadata": {},
   "outputs": [
    {
     "data": {
      "text/html": [
       "<div>\n",
       "<style scoped>\n",
       "    .dataframe tbody tr th:only-of-type {\n",
       "        vertical-align: middle;\n",
       "    }\n",
       "\n",
       "    .dataframe tbody tr th {\n",
       "        vertical-align: top;\n",
       "    }\n",
       "\n",
       "    .dataframe thead th {\n",
       "        text-align: right;\n",
       "    }\n",
       "</style>\n",
       "<table border=\"1\" class=\"dataframe\">\n",
       "  <thead>\n",
       "    <tr style=\"text-align: right;\">\n",
       "      <th></th>\n",
       "      <th>DAY_OF_MONTH</th>\n",
       "      <th>DAY_OF_WEEK</th>\n",
       "      <th>DEP_TIME</th>\n",
       "      <th>ARR_TIME</th>\n",
       "      <th>DISTANCE</th>\n",
       "    </tr>\n",
       "  </thead>\n",
       "  <tbody>\n",
       "    <tr>\n",
       "      <th>0</th>\n",
       "      <td>1</td>\n",
       "      <td>2</td>\n",
       "      <td>601.0</td>\n",
       "      <td>722.0</td>\n",
       "      <td>300.0</td>\n",
       "    </tr>\n",
       "    <tr>\n",
       "      <th>1</th>\n",
       "      <td>1</td>\n",
       "      <td>2</td>\n",
       "      <td>1359.0</td>\n",
       "      <td>1633.0</td>\n",
       "      <td>596.0</td>\n",
       "    </tr>\n",
       "    <tr>\n",
       "      <th>2</th>\n",
       "      <td>1</td>\n",
       "      <td>2</td>\n",
       "      <td>1215.0</td>\n",
       "      <td>1329.0</td>\n",
       "      <td>229.0</td>\n",
       "    </tr>\n",
       "    <tr>\n",
       "      <th>3</th>\n",
       "      <td>1</td>\n",
       "      <td>2</td>\n",
       "      <td>1521.0</td>\n",
       "      <td>1625.0</td>\n",
       "      <td>223.0</td>\n",
       "    </tr>\n",
       "    <tr>\n",
       "      <th>4</th>\n",
       "      <td>1</td>\n",
       "      <td>2</td>\n",
       "      <td>1847.0</td>\n",
       "      <td>1940.0</td>\n",
       "      <td>579.0</td>\n",
       "    </tr>\n",
       "  </tbody>\n",
       "</table>\n",
       "</div>"
      ],
      "text/plain": [
       "   DAY_OF_MONTH  DAY_OF_WEEK  DEP_TIME  ARR_TIME  DISTANCE\n",
       "0             1            2     601.0     722.0     300.0\n",
       "1             1            2    1359.0    1633.0     596.0\n",
       "2             1            2    1215.0    1329.0     229.0\n",
       "3             1            2    1521.0    1625.0     223.0\n",
       "4             1            2    1847.0    1940.0     579.0"
      ]
     },
     "execution_count": 61,
     "metadata": {},
     "output_type": "execute_result"
    }
   ],
   "source": [
    "X_smote = X_2019.drop(columns=['ORIGIN', 'DEST'])\n",
    "\n",
    "X_smote['DAY_OF_MONTH'] = X_2019['DAY_OF_MONTH'].astype('int16')\n",
    "X_smote['DAY_OF_WEEK'] = X_2019['DAY_OF_WEEK'].astype('int16')\n",
    "\n",
    "X_smote.head(5)"
   ]
  },
  {
   "cell_type": "code",
   "execution_count": 62,
   "id": "44358b86",
   "metadata": {},
   "outputs": [],
   "source": [
    "from imblearn.over_sampling import SMOTE\n",
    "\n",
    "balancer = SMOTE(random_state=42, \n",
    "                 sampling_strategy=0.8  # rapporto numero istanze tra le due classi dopo il bilanciamento\n",
    "           )"
   ]
  },
  {
   "cell_type": "code",
   "execution_count": 63,
   "id": "29a93003",
   "metadata": {},
   "outputs": [],
   "source": [
    "X_train_smote = pd.DataFrame(balancer.fit_resample(X_smote, y_2019['ARR_DEL15'])[0])"
   ]
  },
  {
   "cell_type": "code",
   "execution_count": 64,
   "id": "679d94f0",
   "metadata": {},
   "outputs": [],
   "source": [
    "y_train_smote = pd.DataFrame(balancer.fit_resample(X_smote, y_2019['ARR_DEL15'])[1])"
   ]
  },
  {
   "cell_type": "code",
   "execution_count": 65,
   "id": "dfe64e2e",
   "metadata": {},
   "outputs": [
    {
     "data": {
      "text/plain": [
       "0.5134195777787433"
      ]
     },
     "execution_count": 65,
     "metadata": {},
     "output_type": "execute_result"
    }
   ],
   "source": [
    "model = Pipeline([\n",
    "    (\"scaler\", StandardScaler()),\n",
    "    ('tree', DecisionTreeClassifier(max_depth=20, min_samples_split=5000, random_state=42))\n",
    "])\n",
    "model.fit(X_train_smote, y_train_smote)\n",
    "model.score(X_2020.drop(columns=['ORIGIN', 'DEST']), y_2020)"
   ]
  },
  {
   "cell_type": "code",
   "execution_count": 66,
   "id": "30563671",
   "metadata": {},
   "outputs": [
    {
     "data": {
      "text/html": [
       "<div>\n",
       "<style scoped>\n",
       "    .dataframe tbody tr th:only-of-type {\n",
       "        vertical-align: middle;\n",
       "    }\n",
       "\n",
       "    .dataframe tbody tr th {\n",
       "        vertical-align: top;\n",
       "    }\n",
       "\n",
       "    .dataframe thead th {\n",
       "        text-align: right;\n",
       "    }\n",
       "</style>\n",
       "<table border=\"1\" class=\"dataframe\">\n",
       "  <thead>\n",
       "    <tr style=\"text-align: right;\">\n",
       "      <th></th>\n",
       "      <th>0.00</th>\n",
       "      <th>1.00</th>\n",
       "    </tr>\n",
       "  </thead>\n",
       "  <tbody>\n",
       "    <tr>\n",
       "      <th>0.00</th>\n",
       "      <td>261204</td>\n",
       "      <td>255144</td>\n",
       "    </tr>\n",
       "    <tr>\n",
       "      <th>1.00</th>\n",
       "      <td>36052</td>\n",
       "      <td>46054</td>\n",
       "    </tr>\n",
       "  </tbody>\n",
       "</table>\n",
       "</div>"
      ],
      "text/plain": [
       "        0.00    1.00\n",
       "0.00  261204  255144\n",
       "1.00   36052   46054"
      ]
     },
     "execution_count": 66,
     "metadata": {},
     "output_type": "execute_result"
    }
   ],
   "source": [
    "cm = confusion_matrix(y_2020, model.predict(X_2020.drop(columns=['ORIGIN', 'DEST'])))\n",
    "pd.DataFrame(cm, index=model.classes_, columns=model.classes_)"
   ]
  },
  {
   "cell_type": "code",
   "execution_count": 67,
   "id": "df3606a3",
   "metadata": {},
   "outputs": [
    {
     "name": "stdout",
     "output_type": "stream",
     "text": [
      "Aerei correttamente classificati in orario:   0.51\n",
      "Aerei correttamente classificati in ritardo:  0.56\n"
     ]
    }
   ],
   "source": [
    "print(\"Aerei correttamente classificati in orario:   %.2f\" % (cm[0][0]/cm[0].sum()))\n",
    "print(\"Aerei correttamente classificati in ritardo:  %.2f\" % (cm[1][1]/cm[1].sum()))"
   ]
  },
  {
   "cell_type": "markdown",
   "id": "ed205e83",
   "metadata": {},
   "source": [
    "Otteniamo un risultato simile al precedente."
   ]
  },
  {
   "cell_type": "markdown",
   "id": "51d3aa6c",
   "metadata": {},
   "source": [
    "## Previsione mese di Febbraio 2019\n",
    "\n",
    "Vediamo se lo stesso albero performa meglio sul mese di Febbraio 2019 rispetto al mese di Gennaio 2020. "
   ]
  },
  {
   "cell_type": "code",
   "execution_count": 68,
   "id": "dc40b20f",
   "metadata": {},
   "outputs": [],
   "source": [
    "data_feb_2019 = pd.read_csv(\n",
    "    'Feb_2019_ontime.csv',\n",
    "    dtype={c: \"category\" for c in categorical_vars}\n",
    ")[list(X_2019.columns) + ['ARR_DEL15']]\n",
    "\n",
    "data_feb_2019.dropna(inplace=True)\n",
    "\n",
    "X_feb_2019 = data_feb_2019.drop(columns=['ARR_DEL15'])\n",
    "y_feb_2019 = data_feb_2019[['ARR_DEL15']]"
   ]
  },
  {
   "cell_type": "code",
   "execution_count": 69,
   "id": "6d910561",
   "metadata": {},
   "outputs": [
    {
     "data": {
      "text/plain": [
       "Series([], dtype: float64)"
      ]
     },
     "execution_count": 69,
     "metadata": {},
     "output_type": "execute_result"
    }
   ],
   "source": [
    "# verifichiamo la presenza di nuove destinazioni \n",
    "new_origin = [k for k in X_feb_2019['ORIGIN'].unique() if k not in data['ORIGIN'].unique()]\n",
    "        \n",
    "pd.Series(new_origin)"
   ]
  },
  {
   "cell_type": "code",
   "execution_count": 70,
   "id": "05387f55",
   "metadata": {},
   "outputs": [
    {
     "data": {
      "text/plain": [
       "0.6217282506381775"
      ]
     },
     "execution_count": 70,
     "metadata": {},
     "output_type": "execute_result"
    }
   ],
   "source": [
    "model = Pipeline([\n",
    "    (\"preproc\", preprocessor),\n",
    "    ('tree', DecisionTreeClassifier(max_depth=20, min_samples_split=1000, class_weight='balanced', random_state=42))\n",
    "])\n",
    "model.fit(X_2019, y_2019)\n",
    "model.score(X_feb_2019, y_feb_2019)"
   ]
  },
  {
   "cell_type": "code",
   "execution_count": 71,
   "id": "67be2e3b",
   "metadata": {},
   "outputs": [
    {
     "data": {
      "text/html": [
       "<div>\n",
       "<style scoped>\n",
       "    .dataframe tbody tr th:only-of-type {\n",
       "        vertical-align: middle;\n",
       "    }\n",
       "\n",
       "    .dataframe tbody tr th {\n",
       "        vertical-align: top;\n",
       "    }\n",
       "\n",
       "    .dataframe thead th {\n",
       "        text-align: right;\n",
       "    }\n",
       "</style>\n",
       "<table border=\"1\" class=\"dataframe\">\n",
       "  <thead>\n",
       "    <tr style=\"text-align: right;\">\n",
       "      <th></th>\n",
       "      <th>0.00</th>\n",
       "      <th>1.00</th>\n",
       "    </tr>\n",
       "  </thead>\n",
       "  <tbody>\n",
       "    <tr>\n",
       "      <th>0.00</th>\n",
       "      <td>255248</td>\n",
       "      <td>141589</td>\n",
       "    </tr>\n",
       "    <tr>\n",
       "      <th>1.00</th>\n",
       "      <td>53718</td>\n",
       "      <td>65759</td>\n",
       "    </tr>\n",
       "  </tbody>\n",
       "</table>\n",
       "</div>"
      ],
      "text/plain": [
       "        0.00    1.00\n",
       "0.00  255248  141589\n",
       "1.00   53718   65759"
      ]
     },
     "execution_count": 71,
     "metadata": {},
     "output_type": "execute_result"
    }
   ],
   "source": [
    "cm = confusion_matrix(y_feb_2019, model.predict(X_feb_2019))\n",
    "pd.DataFrame(cm, index=model.classes_, columns=model.classes_)"
   ]
  },
  {
   "cell_type": "code",
   "execution_count": 72,
   "id": "644a1ff6",
   "metadata": {},
   "outputs": [
    {
     "name": "stdout",
     "output_type": "stream",
     "text": [
      "Aerei correttamente classificati in orario:   0.64\n",
      "Aerei correttamente classificati in ritardo:  0.55\n"
     ]
    }
   ],
   "source": [
    "print(\"Aerei correttamente classificati in orario:   %.2f\" % (cm[0][0]/cm[0].sum()))\n",
    "print(\"Aerei correttamente classificati in ritardo:  %.2f\" % (cm[1][1]/cm[1].sum()))"
   ]
  },
  {
   "cell_type": "markdown",
   "id": "ec313c2e",
   "metadata": {},
   "source": [
    "#### Il modello (se bilanciato) ha degli scori simili sia utilizzando Gennaio 2020 come valdiation set, sia con Febbraio 2019.\n",
    "\n",
    "Utilizzando modelli non bilanciati, invece, si ottengono circa 10 punti percentuali di accuratezza in meno per il mese di Febbraio 2019."
   ]
  },
  {
   "cell_type": "markdown",
   "id": "4f40a595",
   "metadata": {},
   "source": [
    "## GridSearch sul mese di Gennaio 2019 per prevedere Gennaio 2020\n",
    "\n",
    "Ricerchiamo gli iperparametri migliori con una **GridSearchCV**."
   ]
  },
  {
   "cell_type": "code",
   "execution_count": 73,
   "id": "2c6a1518",
   "metadata": {},
   "outputs": [
    {
     "data": {
      "text/plain": [
       "0.6399188575897229"
      ]
     },
     "execution_count": 73,
     "metadata": {},
     "output_type": "execute_result"
    }
   ],
   "source": [
    "kf = KFold(3, shuffle=False)\n",
    "model = Pipeline([\n",
    "    ('preproc', preprocessor),\n",
    "    ('tree', DecisionTreeClassifier(random_state=42, class_weight='balanced'))\n",
    "])\n",
    "grid = {\n",
    "    \"tree__max_depth\": [5, 10, 20, 50, None],\n",
    "    \"tree__min_samples_split\": [500, 1000, 5000]\n",
    "}\n",
    "gs = GridSearchCV(model, grid, cv=kf)\n",
    "gs.fit(X_2019, y_2019)\n",
    "gs.score(X_2020, y_2020)"
   ]
  },
  {
   "cell_type": "code",
   "execution_count": 74,
   "id": "e7f22128",
   "metadata": {},
   "outputs": [
    {
     "data": {
      "text/plain": [
       "{'tree__max_depth': 50, 'tree__min_samples_split': 500}"
      ]
     },
     "execution_count": 74,
     "metadata": {},
     "output_type": "execute_result"
    }
   ],
   "source": [
    "gs.best_params_"
   ]
  },
  {
   "cell_type": "code",
   "execution_count": 75,
   "id": "949799de",
   "metadata": {
    "scrolled": true
   },
   "outputs": [
    {
     "data": {
      "text/html": [
       "<div>\n",
       "<style scoped>\n",
       "    .dataframe tbody tr th:only-of-type {\n",
       "        vertical-align: middle;\n",
       "    }\n",
       "\n",
       "    .dataframe tbody tr th {\n",
       "        vertical-align: top;\n",
       "    }\n",
       "\n",
       "    .dataframe thead th {\n",
       "        text-align: right;\n",
       "    }\n",
       "</style>\n",
       "<table border=\"1\" class=\"dataframe\">\n",
       "  <thead>\n",
       "    <tr style=\"text-align: right;\">\n",
       "      <th></th>\n",
       "      <th>mean_fit_time</th>\n",
       "      <th>std_fit_time</th>\n",
       "      <th>mean_score_time</th>\n",
       "      <th>std_score_time</th>\n",
       "      <th>param_tree__max_depth</th>\n",
       "      <th>param_tree__min_samples_split</th>\n",
       "      <th>params</th>\n",
       "      <th>split0_test_score</th>\n",
       "      <th>split1_test_score</th>\n",
       "      <th>split2_test_score</th>\n",
       "      <th>mean_test_score</th>\n",
       "      <th>std_test_score</th>\n",
       "      <th>rank_test_score</th>\n",
       "    </tr>\n",
       "  </thead>\n",
       "  <tbody>\n",
       "    <tr>\n",
       "      <th>9</th>\n",
       "      <td>28.098725</td>\n",
       "      <td>1.259525</td>\n",
       "      <td>1.434977</td>\n",
       "      <td>0.004171</td>\n",
       "      <td>50</td>\n",
       "      <td>500</td>\n",
       "      <td>{'tree__max_depth': 50, 'tree__min_samples_spl...</td>\n",
       "      <td>0.719175</td>\n",
       "      <td>0.657786</td>\n",
       "      <td>0.556924</td>\n",
       "      <td>0.644629</td>\n",
       "      <td>0.066889</td>\n",
       "      <td>1</td>\n",
       "    </tr>\n",
       "    <tr>\n",
       "      <th>12</th>\n",
       "      <td>28.561421</td>\n",
       "      <td>1.155534</td>\n",
       "      <td>1.472620</td>\n",
       "      <td>0.016398</td>\n",
       "      <td>None</td>\n",
       "      <td>500</td>\n",
       "      <td>{'tree__max_depth': None, 'tree__min_samples_s...</td>\n",
       "      <td>0.713663</td>\n",
       "      <td>0.664492</td>\n",
       "      <td>0.554051</td>\n",
       "      <td>0.644068</td>\n",
       "      <td>0.066742</td>\n",
       "      <td>2</td>\n",
       "    </tr>\n",
       "    <tr>\n",
       "      <th>6</th>\n",
       "      <td>23.061532</td>\n",
       "      <td>0.846427</td>\n",
       "      <td>1.323550</td>\n",
       "      <td>0.012691</td>\n",
       "      <td>20</td>\n",
       "      <td>500</td>\n",
       "      <td>{'tree__max_depth': 20, 'tree__min_samples_spl...</td>\n",
       "      <td>0.761830</td>\n",
       "      <td>0.662811</td>\n",
       "      <td>0.474875</td>\n",
       "      <td>0.633172</td>\n",
       "      <td>0.119009</td>\n",
       "      <td>3</td>\n",
       "    </tr>\n",
       "    <tr>\n",
       "      <th>7</th>\n",
       "      <td>23.840337</td>\n",
       "      <td>0.565865</td>\n",
       "      <td>1.360384</td>\n",
       "      <td>0.030881</td>\n",
       "      <td>20</td>\n",
       "      <td>1000</td>\n",
       "      <td>{'tree__max_depth': 20, 'tree__min_samples_spl...</td>\n",
       "      <td>0.752729</td>\n",
       "      <td>0.660299</td>\n",
       "      <td>0.455824</td>\n",
       "      <td>0.622950</td>\n",
       "      <td>0.124054</td>\n",
       "      <td>4</td>\n",
       "    </tr>\n",
       "    <tr>\n",
       "      <th>13</th>\n",
       "      <td>27.885183</td>\n",
       "      <td>1.186551</td>\n",
       "      <td>1.492659</td>\n",
       "      <td>0.004374</td>\n",
       "      <td>None</td>\n",
       "      <td>1000</td>\n",
       "      <td>{'tree__max_depth': None, 'tree__min_samples_s...</td>\n",
       "      <td>0.720161</td>\n",
       "      <td>0.631166</td>\n",
       "      <td>0.483833</td>\n",
       "      <td>0.611720</td>\n",
       "      <td>0.097456</td>\n",
       "      <td>5</td>\n",
       "    </tr>\n",
       "    <tr>\n",
       "      <th>10</th>\n",
       "      <td>27.579709</td>\n",
       "      <td>1.307537</td>\n",
       "      <td>1.460859</td>\n",
       "      <td>0.016481</td>\n",
       "      <td>50</td>\n",
       "      <td>1000</td>\n",
       "      <td>{'tree__max_depth': 50, 'tree__min_samples_spl...</td>\n",
       "      <td>0.720320</td>\n",
       "      <td>0.617390</td>\n",
       "      <td>0.479545</td>\n",
       "      <td>0.605751</td>\n",
       "      <td>0.098640</td>\n",
       "      <td>6</td>\n",
       "    </tr>\n",
       "    <tr>\n",
       "      <th>8</th>\n",
       "      <td>22.540473</td>\n",
       "      <td>0.987177</td>\n",
       "      <td>1.470077</td>\n",
       "      <td>0.011029</td>\n",
       "      <td>20</td>\n",
       "      <td>5000</td>\n",
       "      <td>{'tree__max_depth': 20, 'tree__min_samples_spl...</td>\n",
       "      <td>0.723357</td>\n",
       "      <td>0.639016</td>\n",
       "      <td>0.432400</td>\n",
       "      <td>0.598258</td>\n",
       "      <td>0.122229</td>\n",
       "      <td>7</td>\n",
       "    </tr>\n",
       "    <tr>\n",
       "      <th>11</th>\n",
       "      <td>24.360763</td>\n",
       "      <td>1.049920</td>\n",
       "      <td>1.449463</td>\n",
       "      <td>0.009538</td>\n",
       "      <td>50</td>\n",
       "      <td>5000</td>\n",
       "      <td>{'tree__max_depth': 50, 'tree__min_samples_spl...</td>\n",
       "      <td>0.713265</td>\n",
       "      <td>0.637431</td>\n",
       "      <td>0.443791</td>\n",
       "      <td>0.598163</td>\n",
       "      <td>0.113462</td>\n",
       "      <td>8</td>\n",
       "    </tr>\n",
       "    <tr>\n",
       "      <th>14</th>\n",
       "      <td>24.333202</td>\n",
       "      <td>1.024014</td>\n",
       "      <td>1.477338</td>\n",
       "      <td>0.006828</td>\n",
       "      <td>None</td>\n",
       "      <td>5000</td>\n",
       "      <td>{'tree__max_depth': None, 'tree__min_samples_s...</td>\n",
       "      <td>0.713265</td>\n",
       "      <td>0.637431</td>\n",
       "      <td>0.443791</td>\n",
       "      <td>0.598163</td>\n",
       "      <td>0.113462</td>\n",
       "      <td>8</td>\n",
       "    </tr>\n",
       "    <tr>\n",
       "      <th>3</th>\n",
       "      <td>16.186676</td>\n",
       "      <td>0.372032</td>\n",
       "      <td>1.290155</td>\n",
       "      <td>0.006213</td>\n",
       "      <td>10</td>\n",
       "      <td>500</td>\n",
       "      <td>{'tree__max_depth': 10, 'tree__min_samples_spl...</td>\n",
       "      <td>0.799072</td>\n",
       "      <td>0.611697</td>\n",
       "      <td>0.355497</td>\n",
       "      <td>0.588755</td>\n",
       "      <td>0.181814</td>\n",
       "      <td>10</td>\n",
       "    </tr>\n",
       "  </tbody>\n",
       "</table>\n",
       "</div>"
      ],
      "text/plain": [
       "    mean_fit_time  std_fit_time  mean_score_time  std_score_time  \\\n",
       "9       28.098725      1.259525         1.434977        0.004171   \n",
       "12      28.561421      1.155534         1.472620        0.016398   \n",
       "6       23.061532      0.846427         1.323550        0.012691   \n",
       "7       23.840337      0.565865         1.360384        0.030881   \n",
       "13      27.885183      1.186551         1.492659        0.004374   \n",
       "10      27.579709      1.307537         1.460859        0.016481   \n",
       "8       22.540473      0.987177         1.470077        0.011029   \n",
       "11      24.360763      1.049920         1.449463        0.009538   \n",
       "14      24.333202      1.024014         1.477338        0.006828   \n",
       "3       16.186676      0.372032         1.290155        0.006213   \n",
       "\n",
       "   param_tree__max_depth param_tree__min_samples_split  \\\n",
       "9                     50                           500   \n",
       "12                  None                           500   \n",
       "6                     20                           500   \n",
       "7                     20                          1000   \n",
       "13                  None                          1000   \n",
       "10                    50                          1000   \n",
       "8                     20                          5000   \n",
       "11                    50                          5000   \n",
       "14                  None                          5000   \n",
       "3                     10                           500   \n",
       "\n",
       "                                               params  split0_test_score  \\\n",
       "9   {'tree__max_depth': 50, 'tree__min_samples_spl...           0.719175   \n",
       "12  {'tree__max_depth': None, 'tree__min_samples_s...           0.713663   \n",
       "6   {'tree__max_depth': 20, 'tree__min_samples_spl...           0.761830   \n",
       "7   {'tree__max_depth': 20, 'tree__min_samples_spl...           0.752729   \n",
       "13  {'tree__max_depth': None, 'tree__min_samples_s...           0.720161   \n",
       "10  {'tree__max_depth': 50, 'tree__min_samples_spl...           0.720320   \n",
       "8   {'tree__max_depth': 20, 'tree__min_samples_spl...           0.723357   \n",
       "11  {'tree__max_depth': 50, 'tree__min_samples_spl...           0.713265   \n",
       "14  {'tree__max_depth': None, 'tree__min_samples_s...           0.713265   \n",
       "3   {'tree__max_depth': 10, 'tree__min_samples_spl...           0.799072   \n",
       "\n",
       "    split1_test_score  split2_test_score  mean_test_score  std_test_score  \\\n",
       "9            0.657786           0.556924         0.644629        0.066889   \n",
       "12           0.664492           0.554051         0.644068        0.066742   \n",
       "6            0.662811           0.474875         0.633172        0.119009   \n",
       "7            0.660299           0.455824         0.622950        0.124054   \n",
       "13           0.631166           0.483833         0.611720        0.097456   \n",
       "10           0.617390           0.479545         0.605751        0.098640   \n",
       "8            0.639016           0.432400         0.598258        0.122229   \n",
       "11           0.637431           0.443791         0.598163        0.113462   \n",
       "14           0.637431           0.443791         0.598163        0.113462   \n",
       "3            0.611697           0.355497         0.588755        0.181814   \n",
       "\n",
       "    rank_test_score  \n",
       "9                 1  \n",
       "12                2  \n",
       "6                 3  \n",
       "7                 4  \n",
       "13                5  \n",
       "10                6  \n",
       "8                 7  \n",
       "11                8  \n",
       "14                8  \n",
       "3                10  "
      ]
     },
     "execution_count": 75,
     "metadata": {},
     "output_type": "execute_result"
    }
   ],
   "source": [
    "pd.DataFrame(gs.cv_results_).sort_values([\"rank_test_score\", \"mean_score_time\"]).head(10)"
   ]
  },
  {
   "cell_type": "code",
   "execution_count": 76,
   "id": "c146b2be",
   "metadata": {
    "scrolled": true
   },
   "outputs": [
    {
     "data": {
      "text/html": [
       "<div>\n",
       "<style scoped>\n",
       "    .dataframe tbody tr th:only-of-type {\n",
       "        vertical-align: middle;\n",
       "    }\n",
       "\n",
       "    .dataframe tbody tr th {\n",
       "        vertical-align: top;\n",
       "    }\n",
       "\n",
       "    .dataframe thead th {\n",
       "        text-align: right;\n",
       "    }\n",
       "</style>\n",
       "<table border=\"1\" class=\"dataframe\">\n",
       "  <thead>\n",
       "    <tr style=\"text-align: right;\">\n",
       "      <th></th>\n",
       "      <th>0.00</th>\n",
       "      <th>1.00</th>\n",
       "    </tr>\n",
       "  </thead>\n",
       "  <tbody>\n",
       "    <tr>\n",
       "      <th>0.00</th>\n",
       "      <td>341407</td>\n",
       "      <td>174941</td>\n",
       "    </tr>\n",
       "    <tr>\n",
       "      <th>1.00</th>\n",
       "      <td>40551</td>\n",
       "      <td>41555</td>\n",
       "    </tr>\n",
       "  </tbody>\n",
       "</table>\n",
       "</div>"
      ],
      "text/plain": [
       "        0.00    1.00\n",
       "0.00  341407  174941\n",
       "1.00   40551   41555"
      ]
     },
     "execution_count": 76,
     "metadata": {},
     "output_type": "execute_result"
    }
   ],
   "source": [
    "cm = confusion_matrix(y_2020, gs.best_estimator_.predict(X_2020))\n",
    "pd.DataFrame(cm, index=gs.best_estimator_.classes_, columns=gs.best_estimator_.classes_)"
   ]
  },
  {
   "cell_type": "code",
   "execution_count": 77,
   "id": "bcad6a61",
   "metadata": {},
   "outputs": [
    {
     "name": "stdout",
     "output_type": "stream",
     "text": [
      "Aerei correttamente classificati in orario:   0.66\n",
      "Aerei correttamente classificati in ritardo:  0.51\n"
     ]
    }
   ],
   "source": [
    "print(\"Aerei correttamente classificati in orario:   %.2f\" % (cm[0][0]/cm[0].sum()))\n",
    "print(\"Aerei correttamente classificati in ritardo:  %.2f\" % (cm[1][1]/cm[1].sum()))"
   ]
  },
  {
   "cell_type": "markdown",
   "id": "e8293993",
   "metadata": {},
   "source": [
    "\n",
    "Effettuiamo anche una GridSearch più complessa sulla Regressione Logistica per testare i vari tipi di regoralizzazione: *L1*, *L2* e *elastic-net*."
   ]
  },
  {
   "cell_type": "code",
   "execution_count": 78,
   "id": "9c284c4e",
   "metadata": {},
   "outputs": [
    {
     "data": {
      "text/plain": [
       "0.5994061364783259"
      ]
     },
     "execution_count": 78,
     "metadata": {},
     "output_type": "execute_result"
    }
   ],
   "source": [
    "model = Pipeline([\n",
    "    ('preproc', preprocessor),\n",
    "    ('regr', LogisticRegression(solver=\"saga\", random_state=42, class_weight='balanced'))\n",
    "])\n",
    "grid = [\n",
    "    {\n",
    "        'regr__C': [0.001, 0.1, 1],\n",
    "        'regr__penalty': ['l1', 'l2']\n",
    "    },\n",
    "    {\n",
    "        'regr__C': [0.001, 0.1, 1],\n",
    "        'regr__penalty': ['elasticnet'],\n",
    "        'regr__l1_ratio': [0.3, 0.5]\n",
    "    }\n",
    "]\n",
    "gs = GridSearchCV(model, grid, cv=kf)\n",
    "gs.fit(X_2019, y_2019)\n",
    "gs.score(X_2020, y_2020)"
   ]
  },
  {
   "cell_type": "code",
   "execution_count": 79,
   "id": "e0e21060",
   "metadata": {
    "scrolled": true
   },
   "outputs": [
    {
     "data": {
      "text/html": [
       "<div>\n",
       "<style scoped>\n",
       "    .dataframe tbody tr th:only-of-type {\n",
       "        vertical-align: middle;\n",
       "    }\n",
       "\n",
       "    .dataframe tbody tr th {\n",
       "        vertical-align: top;\n",
       "    }\n",
       "\n",
       "    .dataframe thead th {\n",
       "        text-align: right;\n",
       "    }\n",
       "</style>\n",
       "<table border=\"1\" class=\"dataframe\">\n",
       "  <thead>\n",
       "    <tr style=\"text-align: right;\">\n",
       "      <th></th>\n",
       "      <th>mean_fit_time</th>\n",
       "      <th>std_fit_time</th>\n",
       "      <th>mean_score_time</th>\n",
       "      <th>std_score_time</th>\n",
       "      <th>param_regr__C</th>\n",
       "      <th>param_regr__penalty</th>\n",
       "      <th>param_regr__l1_ratio</th>\n",
       "      <th>params</th>\n",
       "      <th>split0_test_score</th>\n",
       "      <th>split1_test_score</th>\n",
       "      <th>split2_test_score</th>\n",
       "      <th>mean_test_score</th>\n",
       "      <th>std_test_score</th>\n",
       "      <th>rank_test_score</th>\n",
       "    </tr>\n",
       "  </thead>\n",
       "  <tbody>\n",
       "    <tr>\n",
       "      <th>2</th>\n",
       "      <td>72.760769</td>\n",
       "      <td>3.425699</td>\n",
       "      <td>1.164861</td>\n",
       "      <td>0.004764</td>\n",
       "      <td>0.1</td>\n",
       "      <td>l1</td>\n",
       "      <td>NaN</td>\n",
       "      <td>{'regr__C': 0.1, 'regr__penalty': 'l1'}</td>\n",
       "      <td>0.694177</td>\n",
       "      <td>0.630307</td>\n",
       "      <td>0.607037</td>\n",
       "      <td>0.643841</td>\n",
       "      <td>0.036839</td>\n",
       "      <td>1</td>\n",
       "    </tr>\n",
       "    <tr>\n",
       "      <th>9</th>\n",
       "      <td>72.246315</td>\n",
       "      <td>4.824002</td>\n",
       "      <td>1.323344</td>\n",
       "      <td>0.023230</td>\n",
       "      <td>0.1</td>\n",
       "      <td>elasticnet</td>\n",
       "      <td>0.5</td>\n",
       "      <td>{'regr__C': 0.1, 'regr__l1_ratio': 0.5, 'regr_...</td>\n",
       "      <td>0.693255</td>\n",
       "      <td>0.630662</td>\n",
       "      <td>0.607244</td>\n",
       "      <td>0.643720</td>\n",
       "      <td>0.036308</td>\n",
       "      <td>2</td>\n",
       "    </tr>\n",
       "    <tr>\n",
       "      <th>8</th>\n",
       "      <td>81.840663</td>\n",
       "      <td>3.418988</td>\n",
       "      <td>1.296090</td>\n",
       "      <td>0.064587</td>\n",
       "      <td>0.1</td>\n",
       "      <td>elasticnet</td>\n",
       "      <td>0.3</td>\n",
       "      <td>{'regr__C': 0.1, 'regr__l1_ratio': 0.3, 'regr_...</td>\n",
       "      <td>0.692725</td>\n",
       "      <td>0.630615</td>\n",
       "      <td>0.607361</td>\n",
       "      <td>0.643567</td>\n",
       "      <td>0.036033</td>\n",
       "      <td>3</td>\n",
       "    </tr>\n",
       "    <tr>\n",
       "      <th>3</th>\n",
       "      <td>45.843484</td>\n",
       "      <td>0.767685</td>\n",
       "      <td>1.183432</td>\n",
       "      <td>0.007547</td>\n",
       "      <td>0.1</td>\n",
       "      <td>l2</td>\n",
       "      <td>NaN</td>\n",
       "      <td>{'regr__C': 0.1, 'regr__penalty': 'l2'}</td>\n",
       "      <td>0.691601</td>\n",
       "      <td>0.630768</td>\n",
       "      <td>0.607562</td>\n",
       "      <td>0.643311</td>\n",
       "      <td>0.035437</td>\n",
       "      <td>4</td>\n",
       "    </tr>\n",
       "    <tr>\n",
       "      <th>4</th>\n",
       "      <td>231.356830</td>\n",
       "      <td>0.285766</td>\n",
       "      <td>1.258374</td>\n",
       "      <td>0.029642</td>\n",
       "      <td>1</td>\n",
       "      <td>l1</td>\n",
       "      <td>NaN</td>\n",
       "      <td>{'regr__C': 1, 'regr__penalty': 'l1'}</td>\n",
       "      <td>0.689995</td>\n",
       "      <td>0.630217</td>\n",
       "      <td>0.607742</td>\n",
       "      <td>0.642651</td>\n",
       "      <td>0.034712</td>\n",
       "      <td>5</td>\n",
       "    </tr>\n",
       "    <tr>\n",
       "      <th>11</th>\n",
       "      <td>230.656220</td>\n",
       "      <td>0.957298</td>\n",
       "      <td>1.319207</td>\n",
       "      <td>0.015119</td>\n",
       "      <td>1</td>\n",
       "      <td>elasticnet</td>\n",
       "      <td>0.5</td>\n",
       "      <td>{'regr__C': 1, 'regr__l1_ratio': 0.5, 'regr__p...</td>\n",
       "      <td>0.689889</td>\n",
       "      <td>0.630064</td>\n",
       "      <td>0.607710</td>\n",
       "      <td>0.642554</td>\n",
       "      <td>0.034692</td>\n",
       "      <td>6</td>\n",
       "    </tr>\n",
       "    <tr>\n",
       "      <th>10</th>\n",
       "      <td>223.549899</td>\n",
       "      <td>0.376041</td>\n",
       "      <td>1.324794</td>\n",
       "      <td>0.002949</td>\n",
       "      <td>1</td>\n",
       "      <td>elasticnet</td>\n",
       "      <td>0.3</td>\n",
       "      <td>{'regr__C': 1, 'regr__l1_ratio': 0.3, 'regr__p...</td>\n",
       "      <td>0.689815</td>\n",
       "      <td>0.629989</td>\n",
       "      <td>0.607663</td>\n",
       "      <td>0.642489</td>\n",
       "      <td>0.034684</td>\n",
       "      <td>7</td>\n",
       "    </tr>\n",
       "    <tr>\n",
       "      <th>5</th>\n",
       "      <td>168.831619</td>\n",
       "      <td>1.028778</td>\n",
       "      <td>1.239290</td>\n",
       "      <td>0.114034</td>\n",
       "      <td>1</td>\n",
       "      <td>l2</td>\n",
       "      <td>NaN</td>\n",
       "      <td>{'regr__C': 1, 'regr__penalty': 'l2'}</td>\n",
       "      <td>0.689778</td>\n",
       "      <td>0.629979</td>\n",
       "      <td>0.607615</td>\n",
       "      <td>0.642457</td>\n",
       "      <td>0.034684</td>\n",
       "      <td>8</td>\n",
       "    </tr>\n",
       "    <tr>\n",
       "      <th>1</th>\n",
       "      <td>32.650011</td>\n",
       "      <td>0.757582</td>\n",
       "      <td>1.173495</td>\n",
       "      <td>0.010746</td>\n",
       "      <td>0.001</td>\n",
       "      <td>l2</td>\n",
       "      <td>NaN</td>\n",
       "      <td>{'regr__C': 0.001, 'regr__penalty': 'l2'}</td>\n",
       "      <td>0.711850</td>\n",
       "      <td>0.621259</td>\n",
       "      <td>0.585606</td>\n",
       "      <td>0.639572</td>\n",
       "      <td>0.053140</td>\n",
       "      <td>9</td>\n",
       "    </tr>\n",
       "    <tr>\n",
       "      <th>6</th>\n",
       "      <td>37.096756</td>\n",
       "      <td>0.686382</td>\n",
       "      <td>1.179388</td>\n",
       "      <td>0.007631</td>\n",
       "      <td>0.001</td>\n",
       "      <td>elasticnet</td>\n",
       "      <td>0.3</td>\n",
       "      <td>{'regr__C': 0.001, 'regr__l1_ratio': 0.3, 'reg...</td>\n",
       "      <td>0.718370</td>\n",
       "      <td>0.611728</td>\n",
       "      <td>0.576351</td>\n",
       "      <td>0.635483</td>\n",
       "      <td>0.060363</td>\n",
       "      <td>10</td>\n",
       "    </tr>\n",
       "  </tbody>\n",
       "</table>\n",
       "</div>"
      ],
      "text/plain": [
       "    mean_fit_time  std_fit_time  mean_score_time  std_score_time  \\\n",
       "2       72.760769      3.425699         1.164861        0.004764   \n",
       "9       72.246315      4.824002         1.323344        0.023230   \n",
       "8       81.840663      3.418988         1.296090        0.064587   \n",
       "3       45.843484      0.767685         1.183432        0.007547   \n",
       "4      231.356830      0.285766         1.258374        0.029642   \n",
       "11     230.656220      0.957298         1.319207        0.015119   \n",
       "10     223.549899      0.376041         1.324794        0.002949   \n",
       "5      168.831619      1.028778         1.239290        0.114034   \n",
       "1       32.650011      0.757582         1.173495        0.010746   \n",
       "6       37.096756      0.686382         1.179388        0.007631   \n",
       "\n",
       "   param_regr__C param_regr__penalty param_regr__l1_ratio  \\\n",
       "2            0.1                  l1                  NaN   \n",
       "9            0.1          elasticnet                  0.5   \n",
       "8            0.1          elasticnet                  0.3   \n",
       "3            0.1                  l2                  NaN   \n",
       "4              1                  l1                  NaN   \n",
       "11             1          elasticnet                  0.5   \n",
       "10             1          elasticnet                  0.3   \n",
       "5              1                  l2                  NaN   \n",
       "1          0.001                  l2                  NaN   \n",
       "6          0.001          elasticnet                  0.3   \n",
       "\n",
       "                                               params  split0_test_score  \\\n",
       "2             {'regr__C': 0.1, 'regr__penalty': 'l1'}           0.694177   \n",
       "9   {'regr__C': 0.1, 'regr__l1_ratio': 0.5, 'regr_...           0.693255   \n",
       "8   {'regr__C': 0.1, 'regr__l1_ratio': 0.3, 'regr_...           0.692725   \n",
       "3             {'regr__C': 0.1, 'regr__penalty': 'l2'}           0.691601   \n",
       "4               {'regr__C': 1, 'regr__penalty': 'l1'}           0.689995   \n",
       "11  {'regr__C': 1, 'regr__l1_ratio': 0.5, 'regr__p...           0.689889   \n",
       "10  {'regr__C': 1, 'regr__l1_ratio': 0.3, 'regr__p...           0.689815   \n",
       "5               {'regr__C': 1, 'regr__penalty': 'l2'}           0.689778   \n",
       "1           {'regr__C': 0.001, 'regr__penalty': 'l2'}           0.711850   \n",
       "6   {'regr__C': 0.001, 'regr__l1_ratio': 0.3, 'reg...           0.718370   \n",
       "\n",
       "    split1_test_score  split2_test_score  mean_test_score  std_test_score  \\\n",
       "2            0.630307           0.607037         0.643841        0.036839   \n",
       "9            0.630662           0.607244         0.643720        0.036308   \n",
       "8            0.630615           0.607361         0.643567        0.036033   \n",
       "3            0.630768           0.607562         0.643311        0.035437   \n",
       "4            0.630217           0.607742         0.642651        0.034712   \n",
       "11           0.630064           0.607710         0.642554        0.034692   \n",
       "10           0.629989           0.607663         0.642489        0.034684   \n",
       "5            0.629979           0.607615         0.642457        0.034684   \n",
       "1            0.621259           0.585606         0.639572        0.053140   \n",
       "6            0.611728           0.576351         0.635483        0.060363   \n",
       "\n",
       "    rank_test_score  \n",
       "2                 1  \n",
       "9                 2  \n",
       "8                 3  \n",
       "3                 4  \n",
       "4                 5  \n",
       "11                6  \n",
       "10                7  \n",
       "5                 8  \n",
       "1                 9  \n",
       "6                10  "
      ]
     },
     "execution_count": 79,
     "metadata": {},
     "output_type": "execute_result"
    }
   ],
   "source": [
    "pd.DataFrame(gs.cv_results_).sort_values([\"rank_test_score\", \"mean_score_time\"]).head(10)"
   ]
  },
  {
   "cell_type": "code",
   "execution_count": 80,
   "id": "5de2921d",
   "metadata": {},
   "outputs": [
    {
     "data": {
      "text/plain": [
       "DAY_OF_MONTH    0.103046\n",
       "DEP_TIME        0.437155\n",
       "ORIGIN_ACV      0.723153\n",
       "ORIGIN_ALB      0.103042\n",
       "ORIGIN_APN      0.439020\n",
       "                  ...   \n",
       "DEST_SWF        0.324217\n",
       "DEST_SYR        0.215390\n",
       "DEST_TTN        0.452847\n",
       "DEST_TVC        0.131243\n",
       "DEST_VEL        0.125350\n",
       "Length: 135, dtype: float64"
      ]
     },
     "execution_count": 80,
     "metadata": {},
     "output_type": "execute_result"
    }
   ],
   "source": [
    "coef = pd.Series(gs.best_estimator_.named_steps['regr'].coef_[0], index=nomi_colonne)\n",
    "coef[coef > 0.1]"
   ]
  },
  {
   "cell_type": "code",
   "execution_count": 81,
   "id": "12222e93",
   "metadata": {},
   "outputs": [
    {
     "data": {
      "text/html": [
       "<div>\n",
       "<style scoped>\n",
       "    .dataframe tbody tr th:only-of-type {\n",
       "        vertical-align: middle;\n",
       "    }\n",
       "\n",
       "    .dataframe tbody tr th {\n",
       "        vertical-align: top;\n",
       "    }\n",
       "\n",
       "    .dataframe thead th {\n",
       "        text-align: right;\n",
       "    }\n",
       "</style>\n",
       "<table border=\"1\" class=\"dataframe\">\n",
       "  <thead>\n",
       "    <tr style=\"text-align: right;\">\n",
       "      <th></th>\n",
       "      <th>0.00</th>\n",
       "      <th>1.00</th>\n",
       "    </tr>\n",
       "  </thead>\n",
       "  <tbody>\n",
       "    <tr>\n",
       "      <th>0.00</th>\n",
       "      <td>315800</td>\n",
       "      <td>200548</td>\n",
       "    </tr>\n",
       "    <tr>\n",
       "      <th>1.00</th>\n",
       "      <td>39189</td>\n",
       "      <td>42917</td>\n",
       "    </tr>\n",
       "  </tbody>\n",
       "</table>\n",
       "</div>"
      ],
      "text/plain": [
       "        0.00    1.00\n",
       "0.00  315800  200548\n",
       "1.00   39189   42917"
      ]
     },
     "execution_count": 81,
     "metadata": {},
     "output_type": "execute_result"
    }
   ],
   "source": [
    "cm = confusion_matrix(y_2020, gs.predict(X_2020))\n",
    "pd.DataFrame(cm, index=gs.best_estimator_.named_steps['regr'].classes_, columns=gs.best_estimator_.named_steps['regr'].classes_)"
   ]
  },
  {
   "cell_type": "code",
   "execution_count": 82,
   "id": "10176bc8",
   "metadata": {},
   "outputs": [
    {
     "name": "stdout",
     "output_type": "stream",
     "text": [
      "Aerei correttamente classificati in orario:   0.61\n",
      "Aerei correttamente classificati in ritardo:  0.52\n"
     ]
    }
   ],
   "source": [
    "print(\"Aerei correttamente classificati in orario:   %.2f\" % (cm[0][0]/cm[0].sum()))\n",
    "print(\"Aerei correttamente classificati in ritardo:  %.2f\" % (cm[1][1]/cm[1].sum()))"
   ]
  },
  {
   "cell_type": "markdown",
   "id": "6cbd7144",
   "metadata": {},
   "source": [
    "## Modelli di classificazione avanzati: Reti Neurali - RandomForestClassifier "
   ]
  },
  {
   "cell_type": "code",
   "execution_count": 83,
   "id": "a2decfcc",
   "metadata": {},
   "outputs": [],
   "source": [
    "from tensorflow.keras.layers import Dense\n",
    "from tensorflow.keras.models import Sequential\n",
    "from tensorflow.keras.utils import to_categorical"
   ]
  },
  {
   "cell_type": "code",
   "execution_count": 84,
   "id": "44bb6321",
   "metadata": {},
   "outputs": [],
   "source": [
    "X_2019_nnr = X_2019.drop(columns=['ORIGIN', 'DEST']).astype('int64')\n",
    "y_2019_nnr = to_categorical(y_2019['ARR_DEL15'].astype('float32'))\n",
    "X_2020_nnr = X_2020.drop(columns=['ORIGIN', 'DEST']).astype('int64')\n",
    "y_2020_nnr = to_categorical(y_2020['ARR_DEL15'].astype('float32'))"
   ]
  },
  {
   "cell_type": "code",
   "execution_count": 85,
   "id": "e1e060d6",
   "metadata": {},
   "outputs": [
    {
     "data": {
      "text/plain": [
       "1.0"
      ]
     },
     "execution_count": 85,
     "metadata": {},
     "output_type": "execute_result"
    }
   ],
   "source": [
    "y_2020_nnr[0][0]"
   ]
  },
  {
   "cell_type": "code",
   "execution_count": 86,
   "id": "8165f7de",
   "metadata": {},
   "outputs": [
    {
     "name": "stdout",
     "output_type": "stream",
     "text": [
      "Epoch 1/5\n",
      "17687/17687 [==============================] - 6s 353us/step - loss: 0.5194 - accuracy: 0.6803\n",
      "Epoch 2/5\n",
      "17687/17687 [==============================] - 6s 355us/step - loss: 0.0798 - accuracy: 0.7466\n",
      "Epoch 3/5\n",
      "17687/17687 [==============================] - 6s 358us/step - loss: 0.0740 - accuracy: 0.7919\n",
      "Epoch 4/5\n",
      "17687/17687 [==============================] - 6s 357us/step - loss: 0.0713 - accuracy: 0.8079\n",
      "Epoch 5/5\n",
      "17687/17687 [==============================] - 6s 359us/step - loss: 0.0702 - accuracy: 0.8093\n"
     ]
    }
   ],
   "source": [
    "model = Sequential([\n",
    "    Dense(8, activation=\"relu\", input_dim=X_2019_nnr.columns.size),  \n",
    "    Dense(2, activation=\"softmax\")\n",
    "])\n",
    "model.compile(optimizer=\"adam\", loss=\"categorical_crossentropy\", metrics=[\"accuracy\"])\n",
    "fit_history = model.fit(X_2019_nnr, y_2019_nnr, batch_size=32, epochs=5, class_weight={0: 0.1, 1: 0.2})"
   ]
  },
  {
   "cell_type": "code",
   "execution_count": 87,
   "id": "356ea649",
   "metadata": {},
   "outputs": [
    {
     "name": "stdout",
     "output_type": "stream",
     "text": [
      "18702/18702 [==============================] - 5s 253us/step - loss: 0.4393 - accuracy: 0.8594\n"
     ]
    },
    {
     "data": {
      "text/plain": [
       "[0.4393242299556732, 0.8594177961349487]"
      ]
     },
     "execution_count": 87,
     "metadata": {},
     "output_type": "execute_result"
    }
   ],
   "source": [
    "model.evaluate(X_2020_nnr, y_2020_nnr)"
   ]
  },
  {
   "cell_type": "code",
   "execution_count": 88,
   "id": "7e7f2f4b",
   "metadata": {},
   "outputs": [],
   "source": [
    "y_pred = np.where(pd.DataFrame(model.predict(X_2020_nnr))[0] >= 0.5, 0, 1)"
   ]
  },
  {
   "cell_type": "code",
   "execution_count": 89,
   "id": "3ad942f1",
   "metadata": {
    "scrolled": true
   },
   "outputs": [
    {
     "data": {
      "text/html": [
       "<div>\n",
       "<style scoped>\n",
       "    .dataframe tbody tr th:only-of-type {\n",
       "        vertical-align: middle;\n",
       "    }\n",
       "\n",
       "    .dataframe tbody tr th {\n",
       "        vertical-align: top;\n",
       "    }\n",
       "\n",
       "    .dataframe thead th {\n",
       "        text-align: right;\n",
       "    }\n",
       "</style>\n",
       "<table border=\"1\" class=\"dataframe\">\n",
       "  <thead>\n",
       "    <tr style=\"text-align: right;\">\n",
       "      <th></th>\n",
       "      <th>0</th>\n",
       "      <th>1</th>\n",
       "    </tr>\n",
       "  </thead>\n",
       "  <tbody>\n",
       "    <tr>\n",
       "      <th>0</th>\n",
       "      <td>508735</td>\n",
       "      <td>7613</td>\n",
       "    </tr>\n",
       "    <tr>\n",
       "      <th>1</th>\n",
       "      <td>76519</td>\n",
       "      <td>5587</td>\n",
       "    </tr>\n",
       "  </tbody>\n",
       "</table>\n",
       "</div>"
      ],
      "text/plain": [
       "        0     1\n",
       "0  508735  7613\n",
       "1   76519  5587"
      ]
     },
     "execution_count": 89,
     "metadata": {},
     "output_type": "execute_result"
    }
   ],
   "source": [
    "cm = confusion_matrix(y_2020['ARR_DEL15'].astype('float32'), y_pred)\n",
    "pd.DataFrame(cm, index=[0, 1], columns=[0, 1])"
   ]
  },
  {
   "cell_type": "code",
   "execution_count": 90,
   "id": "e1872bc4",
   "metadata": {},
   "outputs": [
    {
     "name": "stdout",
     "output_type": "stream",
     "text": [
      "Aerei correttamente classificati in orario:   0.99\n",
      "Aerei correttamente classificati in ritardo:  0.07\n"
     ]
    }
   ],
   "source": [
    "print(\"Aerei correttamente classificati in orario:   %.2f\" % (cm[0][0]/cm[0].sum()))\n",
    "print(\"Aerei correttamente classificati in ritardo:  %.2f\" % (cm[1][1]/cm[1].sum()))"
   ]
  },
  {
   "cell_type": "markdown",
   "id": "38692a3c",
   "metadata": {},
   "source": [
    "Notiamo un'accuratezza complessiva simile ai modelli precedentemente testati."
   ]
  },
  {
   "cell_type": "code",
   "execution_count": 91,
   "id": "eb63d4ba",
   "metadata": {},
   "outputs": [
    {
     "data": {
      "text/plain": [
       "0.6319884235045634"
      ]
     },
     "execution_count": 91,
     "metadata": {},
     "output_type": "execute_result"
    }
   ],
   "source": [
    "from sklearn.ensemble import RandomForestClassifier\n",
    "\n",
    "model = Pipeline([\n",
    "    (\"preproc\", preprocessor),\n",
    "    ('tree', RandomForestClassifier(max_depth=20, min_samples_split=1000, class_weight='balanced', random_state=42))\n",
    "])\n",
    "model.fit(X_2019, y_2019)\n",
    "model.score(X_2020, y_2020)"
   ]
  },
  {
   "cell_type": "code",
   "execution_count": 92,
   "id": "d2888125",
   "metadata": {
    "scrolled": true
   },
   "outputs": [
    {
     "data": {
      "text/html": [
       "<div>\n",
       "<style scoped>\n",
       "    .dataframe tbody tr th:only-of-type {\n",
       "        vertical-align: middle;\n",
       "    }\n",
       "\n",
       "    .dataframe tbody tr th {\n",
       "        vertical-align: top;\n",
       "    }\n",
       "\n",
       "    .dataframe thead th {\n",
       "        text-align: right;\n",
       "    }\n",
       "</style>\n",
       "<table border=\"1\" class=\"dataframe\">\n",
       "  <thead>\n",
       "    <tr style=\"text-align: right;\">\n",
       "      <th></th>\n",
       "      <th>0.00</th>\n",
       "      <th>1.00</th>\n",
       "    </tr>\n",
       "  </thead>\n",
       "  <tbody>\n",
       "    <tr>\n",
       "      <th>0.00</th>\n",
       "      <td>336843</td>\n",
       "      <td>179505</td>\n",
       "    </tr>\n",
       "    <tr>\n",
       "      <th>1.00</th>\n",
       "      <td>40733</td>\n",
       "      <td>41373</td>\n",
       "    </tr>\n",
       "  </tbody>\n",
       "</table>\n",
       "</div>"
      ],
      "text/plain": [
       "        0.00    1.00\n",
       "0.00  336843  179505\n",
       "1.00   40733   41373"
      ]
     },
     "execution_count": 92,
     "metadata": {},
     "output_type": "execute_result"
    }
   ],
   "source": [
    "cm = confusion_matrix(y_2020, model.predict(X_2020))\n",
    "pd.DataFrame(cm, index=model.classes_, columns=model.classes_)"
   ]
  },
  {
   "cell_type": "code",
   "execution_count": 93,
   "id": "fa3d5181",
   "metadata": {},
   "outputs": [
    {
     "name": "stdout",
     "output_type": "stream",
     "text": [
      "Aerei correttamente classificati in orario:   0.65\n",
      "Aerei correttamente classificati in ritardo:  0.50\n"
     ]
    }
   ],
   "source": [
    "print(\"Aerei correttamente classificati in orario:   %.2f\" % (cm[0][0]/cm[0].sum()))\n",
    "print(\"Aerei correttamente classificati in ritardo:  %.2f\" % (cm[1][1]/cm[1].sum()))"
   ]
  },
  {
   "cell_type": "markdown",
   "id": "963942ec",
   "metadata": {},
   "source": [
    "Anche il **RandomForestClassifier** ha dato risultati simili al *DecisionTreeClassifier*."
   ]
  },
  {
   "cell_type": "code",
   "execution_count": null,
   "id": "e3f3f03d",
   "metadata": {},
   "outputs": [],
   "source": [
    "%%time \n",
    "from sklearn.svm import SVC\n",
    "\n",
    "model = Pipeline([\n",
    "    (\"preproc\", preprocessor),\n",
    "    ('tree', SVC(kernel='rbf', C=0.1, class_weight='balanced', random_state=42))\n",
    "])\n",
    "model.fit(X_2019, y_2019)\n",
    "model.score(X_2020, y_2020)"
   ]
  },
  {
   "cell_type": "markdown",
   "id": "c907c901",
   "metadata": {},
   "source": [
    "<br/>\n",
    "\n",
    "## Conclusioni\n",
    "\n",
    "- Nel momento in cui un aereo decolla si può sapere, sfruttando la variabile DEL_DEL15, se l'aereo atterrerà in ritardo con una precisione del 91% circa.\n",
    "\n",
    "- È possibile predire con una precisione del 86% gli aerei che saranno in ritardo nello stesso mese dell'anno successivo. Il modello di classificazione utilizzato è un DecisionTreeClassifier.\n",
    "\n",
    "- Tuttavia, questo risultato potrebbe essere falsato dallo sbilanciamento delle due classi esaminate (derivato dal fatto che molti aerei arrivano in orario e pochi in ritardo). Applicando diverse tecniche di bilanciamento si ottiene un'accuratezza di circa il 63%."
   ]
  }
 ],
 "metadata": {
  "kernelspec": {
   "display_name": "Python 3",
   "language": "python",
   "name": "python3"
  },
  "language_info": {
   "codemirror_mode": {
    "name": "ipython",
    "version": 3
   },
   "file_extension": ".py",
   "mimetype": "text/x-python",
   "name": "python",
   "nbconvert_exporter": "python",
   "pygments_lexer": "ipython3",
   "version": "3.9.4"
  }
 },
 "nbformat": 4,
 "nbformat_minor": 5
}
